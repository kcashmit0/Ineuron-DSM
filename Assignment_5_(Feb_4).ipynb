{
  "nbformat": 4,
  "nbformat_minor": 0,
  "metadata": {
    "colab": {
      "provenance": [],
      "authorship_tag": "ABX9TyON0oCFhoKjR8P0cd0YIlQH",
      "include_colab_link": true
    },
    "kernelspec": {
      "name": "python3",
      "display_name": "Python 3"
    },
    "language_info": {
      "name": "python"
    }
  },
  "cells": [
    {
      "cell_type": "markdown",
      "metadata": {
        "id": "view-in-github",
        "colab_type": "text"
      },
      "source": [
        "<a href=\"https://colab.research.google.com/github/kcashmit0/Ineuron-DSM/blob/Assignment/Assignment_5_(Feb_4).ipynb\" target=\"_parent\"><img src=\"https://colab.research.google.com/assets/colab-badge.svg\" alt=\"Open In Colab\"/></a>"
      ]
    },
    {
      "cell_type": "markdown",
      "source": [
        "# QN 1\n",
        "\n"
      ],
      "metadata": {
        "id": "aJh2_tzaurKU"
      }
    },
    {
      "cell_type": "code",
      "source": [
        "l1 = [('Sachin Tendulkar', 34357), ('Ricky Ponting', 27483), ('Jack Kallis', 25534), ('Virat Kohli', 24936)]\n",
        "a = l1.sort(key = lambda x: x[1])\n",
        "for i in l1 :\n",
        "  print (i,end=\"\")"
      ],
      "metadata": {
        "colab": {
          "base_uri": "https://localhost:8080/"
        },
        "id": "L-CfTmNHusri",
        "outputId": "b63767b0-0eeb-4147-f52b-833acf742f16"
      },
      "execution_count": 47,
      "outputs": [
        {
          "output_type": "stream",
          "name": "stdout",
          "text": [
            "('Virat Kohli', 24936)('Jack Kallis', 25534)('Ricky Ponting', 27483)('Sachin Tendulkar', 34357)"
          ]
        }
      ]
    },
    {
      "cell_type": "markdown",
      "source": [
        "# QN 2\n",
        "\n"
      ],
      "metadata": {
        "id": "fdxVHclluvW9"
      }
    },
    {
      "cell_type": "code",
      "source": [
        "l = [1, 2, 3, 4, 5, 6, 7, 8, 9, 10]\n",
        "list(map(lambda x : x**2 , l))"
      ],
      "metadata": {
        "colab": {
          "base_uri": "https://localhost:8080/"
        },
        "id": "88uNR8Tgu4yA",
        "outputId": "f32c2181-047d-4d46-c8cd-44e9be5078eb"
      },
      "execution_count": 22,
      "outputs": [
        {
          "output_type": "execute_result",
          "data": {
            "text/plain": [
              "[1, 4, 9, 16, 25, 36, 49, 64, 81, 100]"
            ]
          },
          "metadata": {},
          "execution_count": 22
        }
      ]
    },
    {
      "cell_type": "markdown",
      "source": [
        "# QN 3"
      ],
      "metadata": {
        "id": "SqA4-4MNuvrQ"
      }
    },
    {
      "cell_type": "code",
      "source": [
        "given_string = [1, 2, 3, 4, 5, 6, 7, 8, 9, 10]\n",
        "tuple(map(lambda x : str(x),given_string))"
      ],
      "metadata": {
        "colab": {
          "base_uri": "https://localhost:8080/"
        },
        "id": "jmDcm-AbvqcT",
        "outputId": "ca051b99-ae20-4ec0-82e6-d84a8adf58c3"
      },
      "execution_count": 23,
      "outputs": [
        {
          "output_type": "execute_result",
          "data": {
            "text/plain": [
              "('1', '2', '3', '4', '5', '6', '7', '8', '9', '10')"
            ]
          },
          "metadata": {},
          "execution_count": 23
        }
      ]
    },
    {
      "cell_type": "markdown",
      "source": [
        "# QN 4"
      ],
      "metadata": {
        "id": "q4OeSfUiwAp_"
      }
    },
    {
      "cell_type": "code",
      "source": [
        "from functools import reduce\n",
        "l = list(range (1,26))\n",
        "reduce( lambda x,y :x*y,l)"
      ],
      "metadata": {
        "colab": {
          "base_uri": "https://localhost:8080/"
        },
        "id": "1PofY_NdwCTG",
        "outputId": "1b55a1a5-2081-4640-bf09-6ec9022fe136"
      },
      "execution_count": 24,
      "outputs": [
        {
          "output_type": "execute_result",
          "data": {
            "text/plain": [
              "15511210043330985984000000"
            ]
          },
          "metadata": {},
          "execution_count": 24
        }
      ]
    },
    {
      "cell_type": "markdown",
      "source": [
        "# QN 5\n"
      ],
      "metadata": {
        "id": "4vExnaHlwCzy"
      }
    },
    {
      "cell_type": "code",
      "source": [
        "l = [2, 3, 6, 9, 27, 60, 90, 120, 55, 46]\n",
        "list(filter(lambda x : x % 2 ==0 and x % 3 == 0,l))"
      ],
      "metadata": {
        "colab": {
          "base_uri": "https://localhost:8080/"
        },
        "id": "lXeXq171wEWv",
        "outputId": "55bb409e-8e0e-462a-92a8-99ede1e4317c"
      },
      "execution_count": 25,
      "outputs": [
        {
          "output_type": "execute_result",
          "data": {
            "text/plain": [
              "[6, 60, 90, 120]"
            ]
          },
          "metadata": {},
          "execution_count": 25
        }
      ]
    },
    {
      "cell_type": "markdown",
      "source": [
        "# QN 6\n"
      ],
      "metadata": {
        "id": "0pIEhrJVyfbA"
      }
    },
    {
      "cell_type": "code",
      "source": [
        "list1 = ['python', 'php', 'aba', 'radar', 'level']\n",
        "list(filter(lambda x : x == x[::-1] ,list1))"
      ],
      "metadata": {
        "colab": {
          "base_uri": "https://localhost:8080/"
        },
        "id": "rnKQEuBsyhWl",
        "outputId": "5db7ea28-8e83-4cde-ebd7-70568fc7a7de"
      },
      "execution_count": 32,
      "outputs": [
        {
          "output_type": "execute_result",
          "data": {
            "text/plain": [
              "['php', 'aba', 'radar', 'level']"
            ]
          },
          "metadata": {},
          "execution_count": 32
        }
      ]
    }
  ]
}