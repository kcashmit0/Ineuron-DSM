{
  "nbformat": 4,
  "nbformat_minor": 0,
  "metadata": {
    "colab": {
      "provenance": []
    },
    "kernelspec": {
      "name": "python3",
      "display_name": "Python 3"
    },
    "language_info": {
      "name": "python"
    }
  },
  "cells": [
    {
      "cell_type": "markdown",
      "source": [
        "#QN 1\n",
        "The characteristics of tuples are as follows:\n",
        "*  Item assignment is not possible for tuple.\n",
        "*  Tuples are written within parenthesis.\n",
        "*  Tuples can be manipulated (slicing, indexing,reversing,deleting,etc).\n",
        "*  Tuples are immutable unlike list.\n",
        "\n",
        "\n",
        "\n"
      ],
      "metadata": {
        "id": "UDsOuCEytVCR"
      }
    },
    {
      "cell_type": "markdown",
      "source": [
        "#QN 2\n",
        "The two tuple methods are count() and index(). There are only two tuple methods as tuples are designed to be immutable .Having a smaller set of methods simplifies the tuple implementation and fits well with their intended use cases, in contrast to list."
      ],
      "metadata": {
        "id": "DnSd9_f7ub7D"
      }
    },
    {
      "cell_type": "markdown",
      "source": [],
      "metadata": {
        "id": "A8YGdO1oNcgN"
      }
    },
    {
      "cell_type": "code",
      "source": [
        "#count method\n",
        "t1 = (2,3,5,2,2,24,5)\n",
        "c = t1.count(5)\n",
        "print(c)"
      ],
      "metadata": {
        "colab": {
          "base_uri": "https://localhost:8080/"
        },
        "id": "DGhcy0i_vXjf",
        "outputId": "6451de4b-3084-450c-8ed1-475a02bd0b71"
      },
      "execution_count": 3,
      "outputs": [
        {
          "output_type": "stream",
          "name": "stdout",
          "text": [
            "2\n"
          ]
        }
      ]
    },
    {
      "cell_type": "code",
      "source": [
        "#index method\n",
        "i = t1.index(3)\n",
        "print(i)"
      ],
      "metadata": {
        "colab": {
          "base_uri": "https://localhost:8080/"
        },
        "id": "3g6uQVBRvr5M",
        "outputId": "de34ce28-5ab3-4ebe-afbe-a7e3241ad2ce"
      },
      "execution_count": 4,
      "outputs": [
        {
          "output_type": "stream",
          "name": "stdout",
          "text": [
            "1\n"
          ]
        }
      ]
    },
    {
      "cell_type": "markdown",
      "source": [
        "#QN 3\n",
        "Set datatypes in python do not allow duplication.\n"
      ],
      "metadata": {
        "id": "BeKTD6E1v7-q"
      }
    },
    {
      "cell_type": "code",
      "source": [
        "#removal of duplicates using set\n",
        "List = [1, 1, 1, 2, 1, 3, 1, 4, 2, 1, 2, 2, 2, 3, 2, 4, 3, 1, 3, 2, 3, 3, 3, 4, 4, 1, 4, 2, 4, 3, 4, 4]\n"
      ],
      "metadata": {
        "id": "lQsVGV3Pvy8_"
      },
      "execution_count": 5,
      "outputs": []
    },
    {
      "cell_type": "code",
      "source": [
        "set(List)"
      ],
      "metadata": {
        "colab": {
          "base_uri": "https://localhost:8080/"
        },
        "id": "odZFlhI7wM64",
        "outputId": "1aed3f25-76dc-4c65-bafe-ccd6e9316830"
      },
      "execution_count": 6,
      "outputs": [
        {
          "output_type": "execute_result",
          "data": {
            "text/plain": [
              "{1, 2, 3, 4}"
            ]
          },
          "metadata": {},
          "execution_count": 6
        }
      ]
    },
    {
      "cell_type": "markdown",
      "source": [
        "#QN 4\n",
        "The key difference between union() and update() is that union() returns a new set without modifying the original sets while  update() modifies the set on which it is called, adding elements from another set.\n"
      ],
      "metadata": {
        "id": "cpIUy7dTwW_E"
      }
    },
    {
      "cell_type": "code",
      "source": [
        "s1 = {5,7,9,11}\n",
        "s2 = {5,7,11}"
      ],
      "metadata": {
        "id": "tqC5nf3YwOZ-"
      },
      "execution_count": 7,
      "outputs": []
    },
    {
      "cell_type": "code",
      "source": [
        "s1.union(s2)"
      ],
      "metadata": {
        "colab": {
          "base_uri": "https://localhost:8080/"
        },
        "id": "knXI1N_fxAjo",
        "outputId": "dbb60f33-f781-426d-cc58-46aeb270c1a5"
      },
      "execution_count": 8,
      "outputs": [
        {
          "output_type": "execute_result",
          "data": {
            "text/plain": [
              "{5, 7, 9, 11}"
            ]
          },
          "metadata": {},
          "execution_count": 8
        }
      ]
    },
    {
      "cell_type": "code",
      "source": [
        "s1 # s1 is unchanged"
      ],
      "metadata": {
        "colab": {
          "base_uri": "https://localhost:8080/"
        },
        "id": "oDe3Fa66xEO-",
        "outputId": "63f161c4-861e-4e54-bff9-b7a274dbc10d"
      },
      "execution_count": 9,
      "outputs": [
        {
          "output_type": "execute_result",
          "data": {
            "text/plain": [
              "{5, 7, 9, 11}"
            ]
          },
          "metadata": {},
          "execution_count": 9
        }
      ]
    },
    {
      "cell_type": "code",
      "source": [
        "s2.update(s1)"
      ],
      "metadata": {
        "id": "OPjRMDCPxGct"
      },
      "execution_count": 10,
      "outputs": []
    },
    {
      "cell_type": "code",
      "source": [
        "s2# s2 is modified"
      ],
      "metadata": {
        "colab": {
          "base_uri": "https://localhost:8080/"
        },
        "id": "TqxO--OaxL6y",
        "outputId": "59e14907-ac6a-4299-b6cd-9ea5d9fb1d06"
      },
      "execution_count": 11,
      "outputs": [
        {
          "output_type": "execute_result",
          "data": {
            "text/plain": [
              "{5, 7, 9, 11}"
            ]
          },
          "metadata": {},
          "execution_count": 11
        }
      ]
    },
    {
      "cell_type": "markdown",
      "source": [
        "#QN 5\n",
        "Dictionary is a datatype in python which helps to store keys along with values.Starting from Python 3.7, dictionaries in Python maintain the order of insertion of key-value pairs. This means that, as of Python 3.7 and later versions, dictionaries are ordered. The order of items in a dictionary is based on the order in which they were added.\n"
      ],
      "metadata": {
        "id": "4Aaw9z5PxgCj"
      }
    },
    {
      "cell_type": "code",
      "source": [
        "dic = {\"name\":\"Ashmit\",\"age\":18,\"grade\":12}"
      ],
      "metadata": {
        "id": "G6heJYbtxNiT"
      },
      "execution_count": 12,
      "outputs": []
    },
    {
      "cell_type": "code",
      "source": [
        "dic"
      ],
      "metadata": {
        "colab": {
          "base_uri": "https://localhost:8080/"
        },
        "id": "_FUKmfqu0fxe",
        "outputId": "eae8d0ca-c16e-4301-b0b6-68e2a618aae4"
      },
      "execution_count": 13,
      "outputs": [
        {
          "output_type": "execute_result",
          "data": {
            "text/plain": [
              "{'name': 'Ashmit', 'age': 18, 'grade': 12}"
            ]
          },
          "metadata": {},
          "execution_count": 13
        }
      ]
    },
    {
      "cell_type": "code",
      "source": [
        "d1 = {\"color\":\"red\",\"game\":\"football\",\"d2\":{\"age\":18}}\n",
        "#Here d2 a new dictionary is added within a dictionary d1"
      ],
      "metadata": {
        "id": "HRc90T470jnF"
      },
      "execution_count": 14,
      "outputs": []
    },
    {
      "cell_type": "code",
      "source": [
        "d1"
      ],
      "metadata": {
        "colab": {
          "base_uri": "https://localhost:8080/"
        },
        "id": "jcb2JfDi1-lX",
        "outputId": "32aed421-afa6-4050-a31d-e844ae21851e"
      },
      "execution_count": 15,
      "outputs": [
        {
          "output_type": "execute_result",
          "data": {
            "text/plain": [
              "{'color': 'red', 'game': 'football', 'd2': {'age': 18}}"
            ]
          },
          "metadata": {},
          "execution_count": 15
        }
      ]
    },
    {
      "cell_type": "markdown",
      "source": [
        "# QN 6\n",
        "Yes, you can create nested dictionaries in Python i.e dictionary inside another dictionary."
      ],
      "metadata": {
        "id": "8JF-uWR3Nh6-"
      }
    },
    {
      "cell_type": "code",
      "source": [
        "ndict = {'1st_individual': {'name': 'Ashnit','age': 18,'city': 'Kathmandu' },'2nd_individual': {'name': 'Alice','age': 25,'city': 'San Francisco'}}"
      ],
      "metadata": {
        "id": "vLZYcy4sNoZM"
      },
      "execution_count": 16,
      "outputs": []
    },
    {
      "cell_type": "code",
      "source": [
        "print(ndict)"
      ],
      "metadata": {
        "colab": {
          "base_uri": "https://localhost:8080/"
        },
        "id": "P-bfjsw8Nofs",
        "outputId": "ec14e583-f472-48d5-dae9-19a2216d02cb"
      },
      "execution_count": 17,
      "outputs": [
        {
          "output_type": "stream",
          "name": "stdout",
          "text": [
            "{'1st_individual': {'name': 'Ashnit', 'age': 18, 'city': 'Kathmandu'}, '2nd_individual': {'name': 'Alice', 'age': 25, 'city': 'San Francisco'}}\n"
          ]
        }
      ]
    },
    {
      "cell_type": "markdown",
      "source": [
        "#QN 7\n",
        "\n"
      ],
      "metadata": {
        "id": "JQfGHplQ2dC_"
      }
    },
    {
      "cell_type": "code",
      "source": [
        "dict1 = {\"lang\":\"Python\",\"course\":\"Data Science Masters\"}\n",
        "l1 = [\"Python\",\"ML\",\"Deep learning\"]"
      ],
      "metadata": {
        "id": "eTA4X8Uo2M-Q"
      },
      "execution_count": 18,
      "outputs": []
    },
    {
      "cell_type": "code",
      "source": [
        "dict1.setdefault(\"topic\",l1)"
      ],
      "metadata": {
        "colab": {
          "base_uri": "https://localhost:8080/"
        },
        "id": "iINYr76b4rFL",
        "outputId": "a9f895e7-2801-4c1f-afbe-c80f10689917"
      },
      "execution_count": 19,
      "outputs": [
        {
          "output_type": "execute_result",
          "data": {
            "text/plain": [
              "['Python', 'ML', 'Deep learning']"
            ]
          },
          "metadata": {},
          "execution_count": 19
        }
      ]
    },
    {
      "cell_type": "code",
      "source": [
        "dict1"
      ],
      "metadata": {
        "colab": {
          "base_uri": "https://localhost:8080/"
        },
        "id": "RWIcpigX5Ex1",
        "outputId": "cf1b4bca-7ef5-4be1-d98e-069878ddb3c9"
      },
      "execution_count": 20,
      "outputs": [
        {
          "output_type": "execute_result",
          "data": {
            "text/plain": [
              "{'lang': 'Python',\n",
              " 'course': 'Data Science Masters',\n",
              " 'topic': ['Python', 'ML', 'Deep learning']}"
            ]
          },
          "metadata": {},
          "execution_count": 20
        }
      ]
    },
    {
      "cell_type": "markdown",
      "source": [
        "#QN 8\n",
        "These are three view objects in dictionaries:\n",
        "1.  .keys()\n",
        "2.  .values()\n",
        "1.  .items()\n",
        "\n",
        "\n",
        "\n",
        "\n"
      ],
      "metadata": {
        "id": "CQM09Sc66GEi"
      }
    },
    {
      "cell_type": "code",
      "source": [
        "dict1 = {'Sport': 'Cricket' , 'Teams': ['India', 'Australia', 'England', 'South Africa', 'Sri Lanka', 'New Zealand']}"
      ],
      "metadata": {
        "id": "r7kjlq_Z5epJ"
      },
      "execution_count": 21,
      "outputs": []
    },
    {
      "cell_type": "code",
      "source": [
        "dict1.keys()"
      ],
      "metadata": {
        "colab": {
          "base_uri": "https://localhost:8080/"
        },
        "id": "zkOR5GZL7C5W",
        "outputId": "bfa09590-9004-4d0d-c43a-1f0bc27d0518"
      },
      "execution_count": 22,
      "outputs": [
        {
          "output_type": "execute_result",
          "data": {
            "text/plain": [
              "dict_keys(['Sport', 'Teams'])"
            ]
          },
          "metadata": {},
          "execution_count": 22
        }
      ]
    },
    {
      "cell_type": "code",
      "source": [
        "dict1.values()"
      ],
      "metadata": {
        "colab": {
          "base_uri": "https://localhost:8080/"
        },
        "id": "Rnz_CffG7oAW",
        "outputId": "1c06e836-2ef1-4187-9054-86bad51a7744"
      },
      "execution_count": 23,
      "outputs": [
        {
          "output_type": "execute_result",
          "data": {
            "text/plain": [
              "dict_values(['Cricket', ['India', 'Australia', 'England', 'South Africa', 'Sri Lanka', 'New Zealand']])"
            ]
          },
          "metadata": {},
          "execution_count": 23
        }
      ]
    },
    {
      "cell_type": "code",
      "source": [
        "dict1.items()"
      ],
      "metadata": {
        "colab": {
          "base_uri": "https://localhost:8080/"
        },
        "id": "5zUEBOcN73fi",
        "outputId": "8f7e76af-9b4f-4fc0-e841-70e5ad69c6ac"
      },
      "execution_count": 24,
      "outputs": [
        {
          "output_type": "execute_result",
          "data": {
            "text/plain": [
              "dict_items([('Sport', 'Cricket'), ('Teams', ['India', 'Australia', 'England', 'South Africa', 'Sri Lanka', 'New Zealand'])])"
            ]
          },
          "metadata": {},
          "execution_count": 24
        }
      ]
    },
    {
      "cell_type": "code",
      "source": [],
      "metadata": {
        "id": "gXuWsqAF8CSf"
      },
      "execution_count": 24,
      "outputs": []
    }
  ]
}