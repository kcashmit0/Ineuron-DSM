{
  "nbformat": 4,
  "nbformat_minor": 0,
  "metadata": {
    "colab": {
      "provenance": [],
      "toc_visible": true,
      "authorship_tag": "ABX9TyPugXHMWcL3USf3E86vo3/A",
      "include_colab_link": true
    },
    "kernelspec": {
      "name": "python3",
      "display_name": "Python 3"
    },
    "language_info": {
      "name": "python"
    }
  },
  "cells": [
    {
      "cell_type": "markdown",
      "metadata": {
        "id": "view-in-github",
        "colab_type": "text"
      },
      "source": [
        "<a href=\"https://colab.research.google.com/github/kcashmit0/Ineuron-DSM/blob/Classwork/INEURON(start_to_5th_feb)_.ipynb\" target=\"_parent\"><img src=\"https://colab.research.google.com/assets/colab-badge.svg\" alt=\"Open In Colab\"/></a>"
      ]
    },
    {
      "cell_type": "markdown",
      "source": [
        "# TUPLES\n"
      ],
      "metadata": {
        "id": "jl5L0cBKawx8"
      }
    },
    {
      "cell_type": "code",
      "execution_count": null,
      "metadata": {
        "id": "xSpxD599szfD"
      },
      "outputs": [],
      "source": [
        "#Tuple (parenthesis)\n",
        "t1 = (1,2,3,\"ash\",\"mit\",True)"
      ]
    },
    {
      "cell_type": "code",
      "source": [
        "t1[3]"
      ],
      "metadata": {
        "colab": {
          "base_uri": "https://localhost:8080/"
        },
        "id": "dvMJzhjAzSU-",
        "outputId": "874053a2-5a67-41e0-b99f-f7f5025ea092"
      },
      "execution_count": null,
      "outputs": [
        {
          "output_type": "execute_result",
          "data": {
            "text/plain": [
              "'ash'"
            ],
            "application/vnd.google.colaboratory.intrinsic+json": {
              "type": "string"
            }
          },
          "metadata": {},
          "execution_count": 168
        }
      ]
    },
    {
      "cell_type": "code",
      "source": [
        "t1[::-1]#reversing"
      ],
      "metadata": {
        "colab": {
          "base_uri": "https://localhost:8080/"
        },
        "id": "qeUhtl2czVW1",
        "outputId": "a4c20bcd-20cb-4e46-ca5c-37e7c6a0e901"
      },
      "execution_count": null,
      "outputs": [
        {
          "output_type": "execute_result",
          "data": {
            "text/plain": [
              "(True, 'mit', 'ash', 3, 2, 1)"
            ]
          },
          "metadata": {},
          "execution_count": 169
        }
      ]
    },
    {
      "cell_type": "code",
      "source": [
        "t1 = t1[::-1]"
      ],
      "metadata": {
        "id": "0VeKiLd5zm5O"
      },
      "execution_count": null,
      "outputs": []
    },
    {
      "cell_type": "code",
      "source": [
        "t1[0:3]#Indexing and slicing has no differnece with list\n"
      ],
      "metadata": {
        "colab": {
          "base_uri": "https://localhost:8080/"
        },
        "id": "HifPFV9xzx80",
        "outputId": "e99bfe4f-b9da-4479-f738-2270c2e19a2c"
      },
      "execution_count": null,
      "outputs": [
        {
          "output_type": "execute_result",
          "data": {
            "text/plain": [
              "(True, 'mit', 'ash')"
            ]
          },
          "metadata": {},
          "execution_count": 171
        }
      ]
    },
    {
      "cell_type": "code",
      "source": [
        "t1.count(3)#How many times 3 is present"
      ],
      "metadata": {
        "id": "I65PFVVl0b9P",
        "colab": {
          "base_uri": "https://localhost:8080/"
        },
        "outputId": "9ba22414-1e9f-4d81-d288-7e5da9d09a8c"
      },
      "execution_count": null,
      "outputs": [
        {
          "output_type": "execute_result",
          "data": {
            "text/plain": [
              "1"
            ]
          },
          "metadata": {},
          "execution_count": 172
        }
      ]
    },
    {
      "cell_type": "code",
      "source": [
        "t1.count(True)#system has stored true as boolean 1"
      ],
      "metadata": {
        "id": "HaisDxJk0kt5",
        "colab": {
          "base_uri": "https://localhost:8080/"
        },
        "outputId": "586060b3-430f-4b39-aced-ed7cf67d29b4"
      },
      "execution_count": null,
      "outputs": [
        {
          "output_type": "execute_result",
          "data": {
            "text/plain": [
              "2"
            ]
          },
          "metadata": {},
          "execution_count": 173
        }
      ]
    },
    {
      "cell_type": "code",
      "source": [
        "t1.index(1)\n"
      ],
      "metadata": {
        "colab": {
          "base_uri": "https://localhost:8080/"
        },
        "id": "M3kyBc-H07xr",
        "outputId": "b9a7af25-f652-4007-88b9-0b576781395e"
      },
      "execution_count": null,
      "outputs": [
        {
          "output_type": "execute_result",
          "data": {
            "text/plain": [
              "0"
            ]
          },
          "metadata": {},
          "execution_count": 174
        }
      ]
    },
    {
      "cell_type": "code",
      "source": [
        "t1"
      ],
      "metadata": {
        "colab": {
          "base_uri": "https://localhost:8080/"
        },
        "id": "pMyigj9KcqKk",
        "outputId": "50caf9d9-890c-4ee3-edb1-3737687d98a1"
      },
      "execution_count": null,
      "outputs": [
        {
          "output_type": "execute_result",
          "data": {
            "text/plain": [
              "(True, 'mit', 'ash', 3, 2, 1)"
            ]
          },
          "metadata": {},
          "execution_count": 175
        }
      ]
    },
    {
      "cell_type": "code",
      "source": [
        "#Item assignment is not possible for tuple , list is mutable whereas tuple is immutable\n",
        "for i in t1:\n",
        "  print(t1,type(i))"
      ],
      "metadata": {
        "id": "9W8RV3q12jdc",
        "colab": {
          "base_uri": "https://localhost:8080/"
        },
        "outputId": "afa43da0-6c9b-405a-a6f7-3aa288c579fe"
      },
      "execution_count": null,
      "outputs": [
        {
          "output_type": "stream",
          "name": "stdout",
          "text": [
            "(True, 'mit', 'ash', 3, 2, 1) <class 'bool'>\n",
            "(True, 'mit', 'ash', 3, 2, 1) <class 'str'>\n",
            "(True, 'mit', 'ash', 3, 2, 1) <class 'str'>\n",
            "(True, 'mit', 'ash', 3, 2, 1) <class 'int'>\n",
            "(True, 'mit', 'ash', 3, 2, 1) <class 'int'>\n",
            "(True, 'mit', 'ash', 3, 2, 1) <class 'int'>\n"
          ]
        }
      ]
    },
    {
      "cell_type": "code",
      "source": [
        "t2 = (2,3,4)"
      ],
      "metadata": {
        "id": "pElqP93-cx2-"
      },
      "execution_count": null,
      "outputs": []
    },
    {
      "cell_type": "code",
      "source": [
        "t2*2"
      ],
      "metadata": {
        "colab": {
          "base_uri": "https://localhost:8080/"
        },
        "id": "5j2YZTkTdADS",
        "outputId": "adcd79c3-2908-48f1-e197-941759ac2d04"
      },
      "execution_count": null,
      "outputs": [
        {
          "output_type": "execute_result",
          "data": {
            "text/plain": [
              "(2, 3, 4, 2, 3, 4)"
            ]
          },
          "metadata": {},
          "execution_count": 178
        }
      ]
    },
    {
      "cell_type": "code",
      "source": [
        "min(t2)#min or max element"
      ],
      "metadata": {
        "colab": {
          "base_uri": "https://localhost:8080/"
        },
        "id": "NwXJ0d5GdBJi",
        "outputId": "b64430b9-7cea-484e-deec-0fa62821c541"
      },
      "execution_count": null,
      "outputs": [
        {
          "output_type": "execute_result",
          "data": {
            "text/plain": [
              "2"
            ]
          },
          "metadata": {},
          "execution_count": 179
        }
      ]
    },
    {
      "cell_type": "code",
      "source": [
        "t1 = (1,2,3)\n",
        "t2 = (2,3,4)"
      ],
      "metadata": {
        "id": "Qju4YJZEdadb"
      },
      "execution_count": null,
      "outputs": []
    },
    {
      "cell_type": "code",
      "source": [
        "t3 =(t1,t1,t2)#Keeping tuples inside a tuple"
      ],
      "metadata": {
        "id": "CDLDzEb5d4GH"
      },
      "execution_count": null,
      "outputs": []
    },
    {
      "cell_type": "code",
      "source": [
        "t3"
      ],
      "metadata": {
        "colab": {
          "base_uri": "https://localhost:8080/"
        },
        "id": "5YvS9WR5d7ON",
        "outputId": "5c1125c0-a6ec-480e-8fc6-a351e441a76d"
      },
      "execution_count": null,
      "outputs": [
        {
          "output_type": "execute_result",
          "data": {
            "text/plain": [
              "((1, 2, 3), (1, 2, 3), (2, 3, 4))"
            ]
          },
          "metadata": {},
          "execution_count": 182
        }
      ]
    },
    {
      "cell_type": "code",
      "source": [
        "del t1 # deleting tuple"
      ],
      "metadata": {
        "id": "9qS5fPF7d9BH"
      },
      "execution_count": null,
      "outputs": []
    },
    {
      "cell_type": "code",
      "source": [
        "5 in t2 #checking availaibility"
      ],
      "metadata": {
        "colab": {
          "base_uri": "https://localhost:8080/"
        },
        "id": "coewby9zeIun",
        "outputId": "43149733-5678-469a-a560-30c8dd9eac1a"
      },
      "execution_count": null,
      "outputs": [
        {
          "output_type": "execute_result",
          "data": {
            "text/plain": [
              "False"
            ]
          },
          "metadata": {},
          "execution_count": 184
        }
      ]
    },
    {
      "cell_type": "markdown",
      "source": [
        "# SETS - stores unique information"
      ],
      "metadata": {
        "id": "InJVCehneu7T"
      }
    },
    {
      "cell_type": "code",
      "source": [
        "s = {}#inside curly bracket"
      ],
      "metadata": {
        "id": "s66k1Nfyew83"
      },
      "execution_count": null,
      "outputs": []
    },
    {
      "cell_type": "code",
      "source": [
        "type(s)"
      ],
      "metadata": {
        "colab": {
          "base_uri": "https://localhost:8080/"
        },
        "id": "8wsTUqwgNQ6q",
        "outputId": "cff2ff0f-807d-445a-dcaa-e4b567b0e32d"
      },
      "execution_count": null,
      "outputs": [
        {
          "output_type": "execute_result",
          "data": {
            "text/plain": [
              "dict"
            ]
          },
          "metadata": {},
          "execution_count": 186
        }
      ]
    },
    {
      "cell_type": "code",
      "source": [
        "s1 = {1,2,3,4}"
      ],
      "metadata": {
        "id": "fP4jjNOLNVC6"
      },
      "execution_count": null,
      "outputs": []
    },
    {
      "cell_type": "code",
      "source": [
        "type(s1)"
      ],
      "metadata": {
        "colab": {
          "base_uri": "https://localhost:8080/"
        },
        "id": "4CWYPfuCNYem",
        "outputId": "2e0fa24e-4395-4c87-b5c3-fbb3a775655c"
      },
      "execution_count": null,
      "outputs": [
        {
          "output_type": "execute_result",
          "data": {
            "text/plain": [
              "set"
            ]
          },
          "metadata": {},
          "execution_count": 188
        }
      ]
    },
    {
      "cell_type": "code",
      "source": [
        "s2 = {1,1,12,3,4,4,3,98}"
      ],
      "metadata": {
        "id": "ekVAz3CgNdOV"
      },
      "execution_count": null,
      "outputs": []
    },
    {
      "cell_type": "code",
      "source": [
        "s2 # no duplicacy , it stores unique values."
      ],
      "metadata": {
        "colab": {
          "base_uri": "https://localhost:8080/"
        },
        "id": "aMqqmk4SNlSc",
        "outputId": "266d28b4-0bdd-41cd-a442-f096eccb2041"
      },
      "execution_count": null,
      "outputs": [
        {
          "output_type": "execute_result",
          "data": {
            "text/plain": [
              "{1, 3, 4, 12, 98}"
            ]
          },
          "metadata": {},
          "execution_count": 190
        }
      ]
    },
    {
      "cell_type": "code",
      "source": [
        "# conversion of set into list\n",
        "l = list(s2)"
      ],
      "metadata": {
        "id": "59PR-NnwNoBX"
      },
      "execution_count": null,
      "outputs": []
    },
    {
      "cell_type": "code",
      "source": [
        "tuple(s2)"
      ],
      "metadata": {
        "colab": {
          "base_uri": "https://localhost:8080/"
        },
        "id": "tyqYXiSuN4Tf",
        "outputId": "03a4fa64-7e32-4216-8a6b-49ffcb764b0e"
      },
      "execution_count": null,
      "outputs": [
        {
          "output_type": "execute_result",
          "data": {
            "text/plain": [
              "(1, 98, 3, 4, 12)"
            ]
          },
          "metadata": {},
          "execution_count": 192
        }
      ]
    },
    {
      "cell_type": "code",
      "source": [
        "set (l)# unique element"
      ],
      "metadata": {
        "colab": {
          "base_uri": "https://localhost:8080/"
        },
        "id": "t_yiSREIN-fo",
        "outputId": "f52abab1-c725-4f29-dcf2-2bbe21c9747e"
      },
      "execution_count": null,
      "outputs": [
        {
          "output_type": "execute_result",
          "data": {
            "text/plain": [
              "{1, 3, 4, 12, 98}"
            ]
          },
          "metadata": {},
          "execution_count": 193
        }
      ]
    },
    {
      "cell_type": "code",
      "source": [
        "# list cannot be stored inside set due to unhashability but can store tuple due to mutability of list.\n",
        "s3 = (1,2,3,(1,2,3,4))\n",
        "\n"
      ],
      "metadata": {
        "id": "H8QTDODOOGM3"
      },
      "execution_count": null,
      "outputs": []
    },
    {
      "cell_type": "code",
      "source": [
        "s3"
      ],
      "metadata": {
        "colab": {
          "base_uri": "https://localhost:8080/"
        },
        "id": "EA07SC4FOjUG",
        "outputId": "d0c2bad0-3468-4191-b048-240e5485f23d"
      },
      "execution_count": null,
      "outputs": [
        {
          "output_type": "execute_result",
          "data": {
            "text/plain": [
              "(1, 2, 3, (1, 2, 3, 4))"
            ]
          },
          "metadata": {},
          "execution_count": 195
        }
      ]
    },
    {
      "cell_type": "code",
      "source": [
        "# set indexing is not possible unlike tuple and list"
      ],
      "metadata": {
        "id": "zbmLTGtpOk_g"
      },
      "execution_count": null,
      "outputs": []
    },
    {
      "cell_type": "code",
      "source": [
        "s4 = {1,2,3,\"ash\",\"kc\"}"
      ],
      "metadata": {
        "id": "hNNBMMlzPAG6"
      },
      "execution_count": null,
      "outputs": []
    },
    {
      "cell_type": "code",
      "source": [
        "for i in s4:\n",
        "  print(i)"
      ],
      "metadata": {
        "colab": {
          "base_uri": "https://localhost:8080/"
        },
        "id": "b_y3FB3bPKTO",
        "outputId": "01453bbd-3698-4d38-eebf-75346f9cdb9e"
      },
      "execution_count": null,
      "outputs": [
        {
          "output_type": "stream",
          "name": "stdout",
          "text": [
            "1\n",
            "2\n",
            "3\n",
            "ash\n",
            "kc\n"
          ]
        }
      ]
    },
    {
      "cell_type": "code",
      "source": [
        "s4.add(32) # elemnets can be added but same element is not added"
      ],
      "metadata": {
        "id": "44AovkCvPOYY"
      },
      "execution_count": null,
      "outputs": []
    },
    {
      "cell_type": "code",
      "source": [
        "s4"
      ],
      "metadata": {
        "colab": {
          "base_uri": "https://localhost:8080/"
        },
        "id": "dVMxtm2APTTX",
        "outputId": "3ef84166-f2e1-4f30-c899-2b70ba9a9504"
      },
      "execution_count": null,
      "outputs": [
        {
          "output_type": "execute_result",
          "data": {
            "text/plain": [
              "{1, 2, 3, 32, 'ash', 'kc'}"
            ]
          },
          "metadata": {},
          "execution_count": 200
        }
      ]
    },
    {
      "cell_type": "code",
      "source": [
        "len(s4)"
      ],
      "metadata": {
        "colab": {
          "base_uri": "https://localhost:8080/"
        },
        "id": "BxZGB124PUQx",
        "outputId": "e73f799b-bae7-4cf4-c518-54376bc3e597"
      },
      "execution_count": null,
      "outputs": [
        {
          "output_type": "execute_result",
          "data": {
            "text/plain": [
              "6"
            ]
          },
          "metadata": {},
          "execution_count": 201
        }
      ]
    },
    {
      "cell_type": "code",
      "source": [
        "s4.pop()"
      ],
      "metadata": {
        "colab": {
          "base_uri": "https://localhost:8080/"
        },
        "id": "8wIuZ5T4PfCV",
        "outputId": "4ed796e6-1dc2-4f17-99ec-ec325947faa6"
      },
      "execution_count": null,
      "outputs": [
        {
          "output_type": "execute_result",
          "data": {
            "text/plain": [
              "32"
            ]
          },
          "metadata": {},
          "execution_count": 202
        }
      ]
    },
    {
      "cell_type": "code",
      "source": [
        "s4.pop()#removed"
      ],
      "metadata": {
        "colab": {
          "base_uri": "https://localhost:8080/"
        },
        "id": "tyhsmjvmPlZL",
        "outputId": "5b621b0f-0d72-4a1d-bef9-172646e6674d"
      },
      "execution_count": null,
      "outputs": [
        {
          "output_type": "execute_result",
          "data": {
            "text/plain": [
              "1"
            ]
          },
          "metadata": {},
          "execution_count": 203
        }
      ]
    },
    {
      "cell_type": "code",
      "source": [
        "s4"
      ],
      "metadata": {
        "colab": {
          "base_uri": "https://localhost:8080/"
        },
        "id": "2yskv99-Pnzx",
        "outputId": "c5457bf2-5261-4389-b5bc-0ea99a070ec4"
      },
      "execution_count": null,
      "outputs": [
        {
          "output_type": "execute_result",
          "data": {
            "text/plain": [
              "{2, 3, 'ash', 'kc'}"
            ]
          },
          "metadata": {},
          "execution_count": 204
        }
      ]
    },
    {
      "cell_type": "code",
      "source": [
        "s4.clear()"
      ],
      "metadata": {
        "id": "Ukd1EGDpPt-N"
      },
      "execution_count": null,
      "outputs": []
    },
    {
      "cell_type": "code",
      "source": [
        "s4# all elements are removed"
      ],
      "metadata": {
        "colab": {
          "base_uri": "https://localhost:8080/"
        },
        "id": "wtdPCdZNPz_W",
        "outputId": "eaef1964-ffd0-45bd-96ee-063e7a9f66f0"
      },
      "execution_count": null,
      "outputs": [
        {
          "output_type": "execute_result",
          "data": {
            "text/plain": [
              "set()"
            ]
          },
          "metadata": {},
          "execution_count": 206
        }
      ]
    },
    {
      "cell_type": "code",
      "source": [
        "s8 = {1,2,3,4}\n",
        "s9 = {1,2,3,5}"
      ],
      "metadata": {
        "id": "Emu3ct8qP1Hh"
      },
      "execution_count": null,
      "outputs": []
    },
    {
      "cell_type": "code",
      "source": [
        "s8.difference(s9)# shows difference in elements"
      ],
      "metadata": {
        "colab": {
          "base_uri": "https://localhost:8080/"
        },
        "id": "kbQs2OX2P-Cq",
        "outputId": "b80bde57-58da-49a2-8185-c1f037001ee4"
      },
      "execution_count": null,
      "outputs": [
        {
          "output_type": "execute_result",
          "data": {
            "text/plain": [
              "{4}"
            ]
          },
          "metadata": {},
          "execution_count": 208
        }
      ]
    },
    {
      "cell_type": "code",
      "source": [
        "s9.difference(s8)"
      ],
      "metadata": {
        "colab": {
          "base_uri": "https://localhost:8080/"
        },
        "id": "c4TpMnMdQAwB",
        "outputId": "8cb2a957-29fe-4a1e-fe3b-6158b789d4a8"
      },
      "execution_count": null,
      "outputs": [
        {
          "output_type": "execute_result",
          "data": {
            "text/plain": [
              "{5}"
            ]
          },
          "metadata": {},
          "execution_count": 209
        }
      ]
    },
    {
      "cell_type": "code",
      "source": [],
      "metadata": {
        "id": "_iEOQ2SOQHKB"
      },
      "execution_count": null,
      "outputs": []
    },
    {
      "cell_type": "markdown",
      "source": [
        "# DICTIONARY -  stores key and a value\n"
      ],
      "metadata": {
        "id": "yfsp2oZ0QNZk"
      }
    },
    {
      "cell_type": "code",
      "source": [
        "d = {}"
      ],
      "metadata": {
        "id": "YtI0x5bqQVgc"
      },
      "execution_count": null,
      "outputs": []
    },
    {
      "cell_type": "code",
      "source": [
        "type(d)"
      ],
      "metadata": {
        "colab": {
          "base_uri": "https://localhost:8080/"
        },
        "id": "kZ556vIaQi5E",
        "outputId": "b3b2a097-e35c-45e3-a238-9b30edab73d9"
      },
      "execution_count": null,
      "outputs": [
        {
          "output_type": "execute_result",
          "data": {
            "text/plain": [
              "dict"
            ]
          },
          "metadata": {},
          "execution_count": 211
        }
      ]
    },
    {
      "cell_type": "code",
      "source": [
        "d1 ={\"name\":\"ash\",\"num\":83939,\"age\":18}# key can be float, int, string, bool"
      ],
      "metadata": {
        "id": "f2XFe1-1QkHM"
      },
      "execution_count": null,
      "outputs": []
    },
    {
      "cell_type": "code",
      "source": [
        "d1#key cannot be special character like *#$@"
      ],
      "metadata": {
        "colab": {
          "base_uri": "https://localhost:8080/"
        },
        "id": "x2we2KV9RDon",
        "outputId": "04799f0f-0b2e-47f1-cb02-4e2fd19ce7eb"
      },
      "execution_count": null,
      "outputs": [
        {
          "output_type": "execute_result",
          "data": {
            "text/plain": [
              "{'name': 'ash', 'num': 83939, 'age': 18}"
            ]
          },
          "metadata": {},
          "execution_count": 213
        }
      ]
    },
    {
      "cell_type": "code",
      "source": [
        "d1 = {\"name\":\"ash\",\"name\":\"kc\"}"
      ],
      "metadata": {
        "id": "ckhcXxNYRKdo"
      },
      "execution_count": null,
      "outputs": []
    },
    {
      "cell_type": "code",
      "source": [
        "d1# key cannot be repeated like dictionary"
      ],
      "metadata": {
        "colab": {
          "base_uri": "https://localhost:8080/"
        },
        "id": "Mg7l4IN3RZ4B",
        "outputId": "9a1600d9-999d-4260-e166-97e5745bf899"
      },
      "execution_count": null,
      "outputs": [
        {
          "output_type": "execute_result",
          "data": {
            "text/plain": [
              "{'name': 'kc'}"
            ]
          },
          "metadata": {},
          "execution_count": 215
        }
      ]
    },
    {
      "cell_type": "code",
      "source": [
        "# list cannot be taken as key\n",
        "# tuple can be taken as key\n",
        "# set cannot be taken as key\n",
        "# dic cannot be taken as key\n",
        "d9 = {(1,2,3):\"Ash\"}"
      ],
      "metadata": {
        "id": "Br97o3ixRbK9"
      },
      "execution_count": null,
      "outputs": []
    },
    {
      "cell_type": "code",
      "source": [
        "d9"
      ],
      "metadata": {
        "colab": {
          "base_uri": "https://localhost:8080/"
        },
        "id": "doBMTxuPSDnF",
        "outputId": "07942ee0-182a-434f-a556-e1ac9647240e"
      },
      "execution_count": null,
      "outputs": [
        {
          "output_type": "execute_result",
          "data": {
            "text/plain": [
              "{(1, 2, 3): 'Ash'}"
            ]
          },
          "metadata": {},
          "execution_count": 217
        }
      ]
    },
    {
      "cell_type": "code",
      "source": [
        "# list can be taken as value\n",
        "# tuple can be taken as value\n",
        "# set can be taken as value\n",
        "#dic can be taken as value ( NESTED DICTIONARY)\n",
        "\n",
        "d3 = {\"family\":[\"anu\",\"mahesh\",\"amisha\"]}"
      ],
      "metadata": {
        "id": "jYSOkePdSHS7"
      },
      "execution_count": null,
      "outputs": []
    },
    {
      "cell_type": "code",
      "source": [
        "d3"
      ],
      "metadata": {
        "colab": {
          "base_uri": "https://localhost:8080/"
        },
        "id": "eLwFT2jeSlGK",
        "outputId": "bb9d3f8d-be80-4323-c30b-b3a99d24abb6"
      },
      "execution_count": null,
      "outputs": [
        {
          "output_type": "execute_result",
          "data": {
            "text/plain": [
              "{'family': ['anu', 'mahesh', 'amisha']}"
            ]
          },
          "metadata": {},
          "execution_count": 219
        }
      ]
    },
    {
      "cell_type": "code",
      "source": [
        "d4 = {\"batch\":[\"dsm\",\"webdev\"],\"Startdate\":(28,29,40),\"teach\":{\"krish\",\"sudh\"}}"
      ],
      "metadata": {
        "id": "RETWqXEKSmBo"
      },
      "execution_count": null,
      "outputs": []
    },
    {
      "cell_type": "code",
      "source": [
        "d4"
      ],
      "metadata": {
        "colab": {
          "base_uri": "https://localhost:8080/"
        },
        "id": "UD_g1Il3TZpo",
        "outputId": "5d12e1e7-8aa7-49f9-c67d-91cb8c91acef"
      },
      "execution_count": null,
      "outputs": [
        {
          "output_type": "execute_result",
          "data": {
            "text/plain": [
              "{'batch': ['dsm', 'webdev'],\n",
              " 'Startdate': (28, 29, 40),\n",
              " 'teach': {'krish', 'sudh'}}"
            ]
          },
          "metadata": {},
          "execution_count": 221
        }
      ]
    },
    {
      "cell_type": "code",
      "source": [
        "d4[\"timing\"] = (8,8,8)# adding new key"
      ],
      "metadata": {
        "id": "fXoihps3TaOF"
      },
      "execution_count": null,
      "outputs": []
    },
    {
      "cell_type": "code",
      "source": [
        "d4"
      ],
      "metadata": {
        "colab": {
          "base_uri": "https://localhost:8080/"
        },
        "id": "V0AjnFi4Ts1h",
        "outputId": "5504342b-df2d-4220-89dc-ac7d15b8b68f"
      },
      "execution_count": null,
      "outputs": [
        {
          "output_type": "execute_result",
          "data": {
            "text/plain": [
              "{'batch': ['dsm', 'webdev'],\n",
              " 'Startdate': (28, 29, 40),\n",
              " 'teach': {'krish', 'sudh'},\n",
              " 'timing': (8, 8, 8)}"
            ]
          },
          "metadata": {},
          "execution_count": 223
        }
      ]
    },
    {
      "cell_type": "code",
      "source": [
        "d4[\"batch\"]# indexing"
      ],
      "metadata": {
        "colab": {
          "base_uri": "https://localhost:8080/"
        },
        "id": "GfiTAlwaT4fI",
        "outputId": "cb41f77f-72cf-4cae-9445-45aa0127378d"
      },
      "execution_count": null,
      "outputs": [
        {
          "output_type": "execute_result",
          "data": {
            "text/plain": [
              "['dsm', 'webdev']"
            ]
          },
          "metadata": {},
          "execution_count": 224
        }
      ]
    },
    {
      "cell_type": "code",
      "source": [
        "d4[\"school\"]=(\"united\")"
      ],
      "metadata": {
        "id": "yEDZl0OXUbpt"
      },
      "execution_count": null,
      "outputs": []
    },
    {
      "cell_type": "code",
      "source": [
        "# DATA MANIPULATION\n",
        "d4[\"school\"].upper()"
      ],
      "metadata": {
        "colab": {
          "base_uri": "https://localhost:8080/"
        },
        "id": "8aKXijfjUGyQ",
        "outputId": "36c5f328-2b6c-4cf0-df16-e8d2b1753ed3"
      },
      "execution_count": null,
      "outputs": [
        {
          "output_type": "execute_result",
          "data": {
            "text/plain": [
              "'UNITED'"
            ],
            "application/vnd.google.colaboratory.intrinsic+json": {
              "type": "string"
            }
          },
          "metadata": {},
          "execution_count": 226
        }
      ]
    },
    {
      "cell_type": "code",
      "source": [
        "d4.keys()"
      ],
      "metadata": {
        "colab": {
          "base_uri": "https://localhost:8080/"
        },
        "id": "U11i5ylDUqBZ",
        "outputId": "95988153-4a9d-4d10-d74c-bd36e5c8766f"
      },
      "execution_count": null,
      "outputs": [
        {
          "output_type": "execute_result",
          "data": {
            "text/plain": [
              "dict_keys(['batch', 'Startdate', 'teach', 'timing', 'school'])"
            ]
          },
          "metadata": {},
          "execution_count": 227
        }
      ]
    },
    {
      "cell_type": "code",
      "source": [
        "d4.values()"
      ],
      "metadata": {
        "colab": {
          "base_uri": "https://localhost:8080/"
        },
        "id": "1YhJb5zZVM5l",
        "outputId": "1a79a51d-d067-4999-ed53-8e4fca2207be"
      },
      "execution_count": null,
      "outputs": [
        {
          "output_type": "execute_result",
          "data": {
            "text/plain": [
              "dict_values([['dsm', 'webdev'], (28, 29, 40), {'krish', 'sudh'}, (8, 8, 8), 'united'])"
            ]
          },
          "metadata": {},
          "execution_count": 228
        }
      ]
    },
    {
      "cell_type": "code",
      "source": [
        "list(d4.values())"
      ],
      "metadata": {
        "colab": {
          "base_uri": "https://localhost:8080/"
        },
        "id": "8K2cV8LXVTsY",
        "outputId": "5b3a3b07-cbaf-44bf-992b-084ab5008c3c"
      },
      "execution_count": null,
      "outputs": [
        {
          "output_type": "execute_result",
          "data": {
            "text/plain": [
              "[['dsm', 'webdev'], (28, 29, 40), {'krish', 'sudh'}, (8, 8, 8), 'united']"
            ]
          },
          "metadata": {},
          "execution_count": 229
        }
      ]
    },
    {
      "cell_type": "code",
      "source": [
        "list(d4.items())"
      ],
      "metadata": {
        "colab": {
          "base_uri": "https://localhost:8080/"
        },
        "id": "KkntdvPSVvPz",
        "outputId": "0f425c09-9895-41e8-815c-8ade6b365948"
      },
      "execution_count": null,
      "outputs": [
        {
          "output_type": "execute_result",
          "data": {
            "text/plain": [
              "[('batch', ['dsm', 'webdev']),\n",
              " ('Startdate', (28, 29, 40)),\n",
              " ('teach', {'krish', 'sudh'}),\n",
              " ('timing', (8, 8, 8)),\n",
              " ('school', 'united')]"
            ]
          },
          "metadata": {},
          "execution_count": 230
        }
      ]
    },
    {
      "cell_type": "code",
      "source": [
        "d5 = d4.copy()# deep copy"
      ],
      "metadata": {
        "id": "cQ881iVJV5ET"
      },
      "execution_count": null,
      "outputs": []
    },
    {
      "cell_type": "code",
      "source": [
        "d5"
      ],
      "metadata": {
        "colab": {
          "base_uri": "https://localhost:8080/"
        },
        "id": "PCTQ_3yZWMfD",
        "outputId": "2451edb6-1009-4ebd-f95e-c865c74307c1"
      },
      "execution_count": null,
      "outputs": [
        {
          "output_type": "execute_result",
          "data": {
            "text/plain": [
              "{'batch': ['dsm', 'webdev'],\n",
              " 'Startdate': (28, 29, 40),\n",
              " 'teach': {'krish', 'sudh'},\n",
              " 'timing': (8, 8, 8),\n",
              " 'school': 'united'}"
            ]
          },
          "metadata": {},
          "execution_count": 232
        }
      ]
    },
    {
      "cell_type": "code",
      "source": [
        "del d4[\"batch\"]# affects just d4 but not d5"
      ],
      "metadata": {
        "id": "4r4sPDImWN89"
      },
      "execution_count": null,
      "outputs": []
    },
    {
      "cell_type": "code",
      "source": [
        "d4"
      ],
      "metadata": {
        "colab": {
          "base_uri": "https://localhost:8080/"
        },
        "id": "AYSa8viBWhNJ",
        "outputId": "a1f83f70-0e13-4673-deac-9cac9e922059"
      },
      "execution_count": null,
      "outputs": [
        {
          "output_type": "execute_result",
          "data": {
            "text/plain": [
              "{'Startdate': (28, 29, 40),\n",
              " 'teach': {'krish', 'sudh'},\n",
              " 'timing': (8, 8, 8),\n",
              " 'school': 'united'}"
            ]
          },
          "metadata": {},
          "execution_count": 234
        }
      ]
    },
    {
      "cell_type": "code",
      "source": [
        "d5"
      ],
      "metadata": {
        "colab": {
          "base_uri": "https://localhost:8080/"
        },
        "id": "A3xYHrYLWzMy",
        "outputId": "d3a60684-90e3-495b-87db-981a81fe5899"
      },
      "execution_count": null,
      "outputs": [
        {
          "output_type": "execute_result",
          "data": {
            "text/plain": [
              "{'batch': ['dsm', 'webdev'],\n",
              " 'Startdate': (28, 29, 40),\n",
              " 'teach': {'krish', 'sudh'},\n",
              " 'timing': (8, 8, 8),\n",
              " 'school': 'united'}"
            ]
          },
          "metadata": {},
          "execution_count": 235
        }
      ]
    },
    {
      "cell_type": "code",
      "source": [
        "d4.pop(\"teach\")#removal of key"
      ],
      "metadata": {
        "colab": {
          "base_uri": "https://localhost:8080/"
        },
        "id": "tK99za7vWz3v",
        "outputId": "edfe01aa-0b76-41d3-f839-f4817c7fd69a"
      },
      "execution_count": null,
      "outputs": [
        {
          "output_type": "execute_result",
          "data": {
            "text/plain": [
              "{'krish', 'sudh'}"
            ]
          },
          "metadata": {},
          "execution_count": 236
        }
      ]
    },
    {
      "cell_type": "code",
      "source": [
        "d5.fromkeys((1,2,3),\"v,d,c\")"
      ],
      "metadata": {
        "colab": {
          "base_uri": "https://localhost:8080/"
        },
        "id": "V8vEz-UjXQjf",
        "outputId": "aa1b2619-7daa-4853-cd09-768d593e6128"
      },
      "execution_count": null,
      "outputs": [
        {
          "output_type": "execute_result",
          "data": {
            "text/plain": [
              "{1: 'v,d,c', 2: 'v,d,c', 3: 'v,d,c'}"
            ]
          },
          "metadata": {},
          "execution_count": 237
        }
      ]
    },
    {
      "cell_type": "code",
      "source": [
        "d7 = {\"name\":\"ash\",\"cas\":\"kc\"}\n",
        "d8 = {\"nam\":\"mit\",\"class\":\"13\"}"
      ],
      "metadata": {
        "id": "S2RjHW_5XRT1"
      },
      "execution_count": null,
      "outputs": []
    },
    {
      "cell_type": "code",
      "source": [
        "d7.update(d8)# original values + values from other dic"
      ],
      "metadata": {
        "id": "q93yTbBuYi4A"
      },
      "execution_count": null,
      "outputs": []
    },
    {
      "cell_type": "code",
      "source": [
        "d7"
      ],
      "metadata": {
        "colab": {
          "base_uri": "https://localhost:8080/"
        },
        "id": "1sWBkY22YlM_",
        "outputId": "817c5ccd-518f-4445-d758-8c418242fcd9"
      },
      "execution_count": null,
      "outputs": [
        {
          "output_type": "execute_result",
          "data": {
            "text/plain": [
              "{'name': 'ash', 'cas': 'kc', 'nam': 'mit', 'class': '13'}"
            ]
          },
          "metadata": {},
          "execution_count": 240
        }
      ]
    },
    {
      "cell_type": "code",
      "source": [
        "# DIC COMPREHENSION\n",
        "d2 = {a : a**3 for a in range (1,6)}"
      ],
      "metadata": {
        "id": "-b3Icon-YmdQ"
      },
      "execution_count": null,
      "outputs": []
    },
    {
      "cell_type": "code",
      "source": [
        "import math\n",
        "{i : math.log10(i) for i in range (1,6)}\n"
      ],
      "metadata": {
        "colab": {
          "base_uri": "https://localhost:8080/"
        },
        "id": "lwPQIv_LZvmk",
        "outputId": "319e27a5-ce1f-4dac-fe1b-e0e4be06c716"
      },
      "execution_count": null,
      "outputs": [
        {
          "output_type": "execute_result",
          "data": {
            "text/plain": [
              "{1: 0.0,\n",
              " 2: 0.3010299956639812,\n",
              " 3: 0.47712125471966244,\n",
              " 4: 0.6020599913279624,\n",
              " 5: 0.6989700043360189}"
            ]
          },
          "metadata": {},
          "execution_count": 242
        }
      ]
    },
    {
      "cell_type": "code",
      "source": [
        "\"name\" in d7"
      ],
      "metadata": {
        "colab": {
          "base_uri": "https://localhost:8080/"
        },
        "id": "HtVWF-LUZ-By",
        "outputId": "7d0f2def-4e3e-48be-c376-75b52d9c0919"
      },
      "execution_count": null,
      "outputs": [
        {
          "output_type": "execute_result",
          "data": {
            "text/plain": [
              "True"
            ]
          },
          "metadata": {},
          "execution_count": 243
        }
      ]
    },
    {
      "cell_type": "code",
      "source": [
        "d2"
      ],
      "metadata": {
        "colab": {
          "base_uri": "https://localhost:8080/"
        },
        "id": "NTjK35xsaXh-",
        "outputId": "594fd4d4-6ae8-41b8-bff5-e5e1842f695e"
      },
      "execution_count": null,
      "outputs": [
        {
          "output_type": "execute_result",
          "data": {
            "text/plain": [
              "{1: 1, 2: 8, 3: 27, 4: 64, 5: 125}"
            ]
          },
          "metadata": {},
          "execution_count": 244
        }
      ]
    },
    {
      "cell_type": "code",
      "source": [
        "for i in d2.keys():\n",
        "  if i%2 == 0:\n",
        "    print(d2[i])"
      ],
      "metadata": {
        "colab": {
          "base_uri": "https://localhost:8080/"
        },
        "id": "75CQXJvHa-KZ",
        "outputId": "f3eefeda-85a6-4cc0-98b4-1d3b722600af"
      },
      "execution_count": null,
      "outputs": [
        {
          "output_type": "stream",
          "name": "stdout",
          "text": [
            "8\n",
            "64\n"
          ]
        }
      ]
    },
    {
      "cell_type": "code",
      "source": [
        "\n"
      ],
      "metadata": {
        "id": "ygrraZ7pdQK8"
      },
      "execution_count": null,
      "outputs": []
    },
    {
      "cell_type": "markdown",
      "source": [
        "# FUNCTIONS\n"
      ],
      "metadata": {
        "id": "9XKfjcoEDx2Z"
      }
    },
    {
      "cell_type": "code",
      "source": [
        "def test():\n",
        "    pass\n"
      ],
      "metadata": {
        "id": "rasy1f0JD10h"
      },
      "execution_count": null,
      "outputs": []
    },
    {
      "cell_type": "code",
      "source": [
        "def test1():\n",
        "  print(\"this is my first func\")"
      ],
      "metadata": {
        "id": "JVKBJNouVA8M"
      },
      "execution_count": null,
      "outputs": []
    },
    {
      "cell_type": "code",
      "source": [
        "test1()# usability and mobility"
      ],
      "metadata": {
        "colab": {
          "base_uri": "https://localhost:8080/"
        },
        "id": "R-jItREyVHZw",
        "outputId": "8229931a-50ca-4042-ca54-7a305520433c"
      },
      "execution_count": null,
      "outputs": [
        {
          "output_type": "stream",
          "name": "stdout",
          "text": [
            "this is my first func\n"
          ]
        }
      ]
    },
    {
      "cell_type": "code",
      "source": [
        "def ts():\n",
        "  return \"this is return\""
      ],
      "metadata": {
        "id": "d2FjFRoBVJLn"
      },
      "execution_count": null,
      "outputs": []
    },
    {
      "cell_type": "code",
      "source": [
        "ts() + \" ash\"#use always return not a print in function"
      ],
      "metadata": {
        "colab": {
          "base_uri": "https://localhost:8080/"
        },
        "id": "ElV0jhc8V5uq",
        "outputId": "e5c132a4-43b4-4815-8097-3c4a76431796"
      },
      "execution_count": null,
      "outputs": [
        {
          "output_type": "execute_result",
          "data": {
            "text/plain": [
              "'this is return ash'"
            ],
            "application/vnd.google.colaboratory.intrinsic+json": {
              "type": "string"
            }
          },
          "metadata": {},
          "execution_count": 250
        }
      ]
    },
    {
      "cell_type": "code",
      "source": [
        "def tst():\n",
        "  return 1,2,\"hello\",0"
      ],
      "metadata": {
        "id": "wdFHMIYcV-Y7"
      },
      "execution_count": null,
      "outputs": []
    },
    {
      "cell_type": "code",
      "source": [
        "tst()#return is always in the form of tuple"
      ],
      "metadata": {
        "colab": {
          "base_uri": "https://localhost:8080/"
        },
        "id": "nOPtyjNsWVb1",
        "outputId": "8e39fa3a-7883-4136-f83a-a2a9645953bb"
      },
      "execution_count": null,
      "outputs": [
        {
          "output_type": "execute_result",
          "data": {
            "text/plain": [
              "(1, 2, 'hello', 0)"
            ]
          },
          "metadata": {},
          "execution_count": 252
        }
      ]
    },
    {
      "cell_type": "code",
      "source": [
        "a = 1,2,3,4,5"
      ],
      "metadata": {
        "id": "KlVd_PJYWXPB"
      },
      "execution_count": null,
      "outputs": []
    },
    {
      "cell_type": "code",
      "source": [
        "a,b,c,d = 1,2,34.44,False"
      ],
      "metadata": {
        "id": "4ltm519lWbYX"
      },
      "execution_count": null,
      "outputs": []
    },
    {
      "cell_type": "code",
      "source": [
        "a\n"
      ],
      "metadata": {
        "colab": {
          "base_uri": "https://localhost:8080/"
        },
        "id": "aVM_FYbaWh-V",
        "outputId": "8622a234-1937-4743-be06-74547bc78e8c"
      },
      "execution_count": null,
      "outputs": [
        {
          "output_type": "execute_result",
          "data": {
            "text/plain": [
              "1"
            ]
          },
          "metadata": {},
          "execution_count": 255
        }
      ]
    },
    {
      "cell_type": "code",
      "source": [
        "d"
      ],
      "metadata": {
        "colab": {
          "base_uri": "https://localhost:8080/"
        },
        "id": "x98PzSa5WjJ6",
        "outputId": "e56c7e7f-12b6-4b79-cb9e-6b5b1cfda0a8"
      },
      "execution_count": null,
      "outputs": [
        {
          "output_type": "execute_result",
          "data": {
            "text/plain": [
              "False"
            ]
          },
          "metadata": {},
          "execution_count": 256
        }
      ]
    },
    {
      "cell_type": "code",
      "source": [
        "tst()[3]#indexing"
      ],
      "metadata": {
        "colab": {
          "base_uri": "https://localhost:8080/"
        },
        "id": "_XimQ1HFWj1b",
        "outputId": "95133bd9-7196-4ca9-e5ff-6a77f7bb6239"
      },
      "execution_count": null,
      "outputs": [
        {
          "output_type": "execute_result",
          "data": {
            "text/plain": [
              "0"
            ]
          },
          "metadata": {},
          "execution_count": 257
        }
      ]
    },
    {
      "cell_type": "code",
      "source": [
        "def test4():\n",
        "  a = 3*4 +5\n",
        "  return a\n"
      ],
      "metadata": {
        "id": "qwagNxUeWyw3"
      },
      "execution_count": null,
      "outputs": []
    },
    {
      "cell_type": "code",
      "source": [
        "test4()"
      ],
      "metadata": {
        "colab": {
          "base_uri": "https://localhost:8080/"
        },
        "id": "3YUccxUIXNft",
        "outputId": "6cde6f29-d3d8-40e6-9773-33360352ea65"
      },
      "execution_count": null,
      "outputs": [
        {
          "output_type": "execute_result",
          "data": {
            "text/plain": [
              "17"
            ]
          },
          "metadata": {},
          "execution_count": 259
        }
      ]
    },
    {
      "cell_type": "code",
      "source": [
        "type(test4())"
      ],
      "metadata": {
        "colab": {
          "base_uri": "https://localhost:8080/"
        },
        "id": "9efXXnCwXPSa",
        "outputId": "2dd83878-2847-4f7d-fcb0-bbb2559269cf"
      },
      "execution_count": null,
      "outputs": [
        {
          "output_type": "execute_result",
          "data": {
            "text/plain": [
              "int"
            ]
          },
          "metadata": {},
          "execution_count": 260
        }
      ]
    },
    {
      "cell_type": "code",
      "source": [
        "def ts1(a,b):\n",
        "  c = a + b\n",
        "  return c"
      ],
      "metadata": {
        "id": "j-shPpuBXRz3"
      },
      "execution_count": null,
      "outputs": []
    },
    {
      "cell_type": "code",
      "source": [
        "ts1(87,12)"
      ],
      "metadata": {
        "colab": {
          "base_uri": "https://localhost:8080/"
        },
        "id": "oH0e2lqLXcII",
        "outputId": "6589b216-7e1f-412c-c364-ba80dcc00721"
      },
      "execution_count": null,
      "outputs": [
        {
          "output_type": "execute_result",
          "data": {
            "text/plain": [
              "99"
            ]
          },
          "metadata": {},
          "execution_count": 262
        }
      ]
    },
    {
      "cell_type": "code",
      "source": [
        "ts1(\"ash\",\"mit\")#concatenation"
      ],
      "metadata": {
        "colab": {
          "base_uri": "https://localhost:8080/"
        },
        "id": "h9oskjVLXdYt",
        "outputId": "52086b09-e7ee-4baf-9251-ff91405a1551"
      },
      "execution_count": null,
      "outputs": [
        {
          "output_type": "execute_result",
          "data": {
            "text/plain": [
              "'ashmit'"
            ],
            "application/vnd.google.colaboratory.intrinsic+json": {
              "type": "string"
            }
          },
          "metadata": {},
          "execution_count": 263
        }
      ]
    },
    {
      "cell_type": "code",
      "source": [
        "ts1([1,2,3,4],[323,323])# using list"
      ],
      "metadata": {
        "colab": {
          "base_uri": "https://localhost:8080/"
        },
        "id": "N9UIkwXEX0xE",
        "outputId": "39399084-101f-419f-9629-6926769a2913"
      },
      "execution_count": null,
      "outputs": [
        {
          "output_type": "execute_result",
          "data": {
            "text/plain": [
              "[1, 2, 3, 4, 323, 323]"
            ]
          },
          "metadata": {},
          "execution_count": 264
        }
      ]
    },
    {
      "cell_type": "code",
      "source": [
        "ts1(b = \"ash\",a =\"mit\")#reversing"
      ],
      "metadata": {
        "colab": {
          "base_uri": "https://localhost:8080/"
        },
        "id": "-9qoIwwYX7BM",
        "outputId": "b00f0fba-2b5f-4bc3-bd80-0a7fb8caedf2"
      },
      "execution_count": null,
      "outputs": [
        {
          "output_type": "execute_result",
          "data": {
            "text/plain": [
              "'mitash'"
            ],
            "application/vnd.google.colaboratory.intrinsic+json": {
              "type": "string"
            }
          },
          "metadata": {},
          "execution_count": 265
        }
      ]
    },
    {
      "cell_type": "code",
      "source": [
        "l = [1,23,4,6,5,\"pw\",\"skills\",[1,3,45,6,12]]"
      ],
      "metadata": {
        "id": "_L196vFzYLbk"
      },
      "execution_count": null,
      "outputs": []
    },
    {
      "cell_type": "code",
      "source": [
        "def ts(a): # function which will give all numeric output\n",
        "  n = []\n",
        "  for i in a:\n",
        "    if type(i)== int or type(i) ==float:\n",
        "      n.append(i)\n",
        "  return n\n"
      ],
      "metadata": {
        "id": "JFVenf9kYVR4"
      },
      "execution_count": null,
      "outputs": []
    },
    {
      "cell_type": "code",
      "source": [
        "ts(l)"
      ],
      "metadata": {
        "colab": {
          "base_uri": "https://localhost:8080/"
        },
        "id": "LY-ld0rYYgrd",
        "outputId": "62ffe003-e882-46af-afdc-3ab4aff0a8d1"
      },
      "execution_count": null,
      "outputs": [
        {
          "output_type": "execute_result",
          "data": {
            "text/plain": [
              "[1, 23, 4, 6, 5]"
            ]
          },
          "metadata": {},
          "execution_count": 268
        }
      ]
    },
    {
      "cell_type": "code",
      "source": [
        "def t(a):# for nested list\n",
        "  m = []\n",
        "  for b in a:\n",
        "    if type(b) == list :\n",
        "      for c in b:\n",
        "        if type (c)== float or type (c)== int:\n",
        "          m.append(c)\n",
        "    else:\n",
        "      if type(b)==int or type(b)==float:\n",
        "        m.append(b)\n",
        "  return m\n"
      ],
      "metadata": {
        "id": "Cgly9hiiYq80"
      },
      "execution_count": null,
      "outputs": []
    },
    {
      "cell_type": "code",
      "source": [
        "t(l)"
      ],
      "metadata": {
        "colab": {
          "base_uri": "https://localhost:8080/"
        },
        "id": "247wFo05bhvC",
        "outputId": "6961484d-5e29-4e51-a713-2d1209496a9a"
      },
      "execution_count": null,
      "outputs": [
        {
          "output_type": "execute_result",
          "data": {
            "text/plain": [
              "[1, 23, 4, 6, 5, 1, 3, 45, 6, 12]"
            ]
          },
          "metadata": {},
          "execution_count": 270
        }
      ]
    },
    {
      "cell_type": "code",
      "source": [
        "def t2(a,b,c,d,e):\n",
        "  pass"
      ],
      "metadata": {
        "id": "8vpIH-mhbjc5"
      },
      "execution_count": null,
      "outputs": []
    },
    {
      "cell_type": "code",
      "source": [
        "def t3(*args):#it can take any number of argument\n",
        "  return args"
      ],
      "metadata": {
        "id": "8L8UVkjXca04"
      },
      "execution_count": null,
      "outputs": []
    },
    {
      "cell_type": "code",
      "source": [
        "t3(1,2,3,45,6,6)"
      ],
      "metadata": {
        "colab": {
          "base_uri": "https://localhost:8080/"
        },
        "id": "wHQxgkMOclZk",
        "outputId": "698c889d-61be-446e-dae6-788da90447a4"
      },
      "execution_count": null,
      "outputs": [
        {
          "output_type": "execute_result",
          "data": {
            "text/plain": [
              "(1, 2, 3, 45, 6, 6)"
            ]
          },
          "metadata": {},
          "execution_count": 273
        }
      ]
    },
    {
      "cell_type": "code",
      "source": [
        "# You can take any word but *..... and return ....."
      ],
      "metadata": {
        "id": "7MMRd51Hcn9C"
      },
      "execution_count": null,
      "outputs": []
    },
    {
      "cell_type": "code",
      "source": [
        "def t4(*ash,a):\n",
        "  return ash,a"
      ],
      "metadata": {
        "id": "Ic_36sIWc2hd"
      },
      "execution_count": null,
      "outputs": []
    },
    {
      "cell_type": "code",
      "source": [
        "t4(1,23,4, a=\"hi\")"
      ],
      "metadata": {
        "colab": {
          "base_uri": "https://localhost:8080/"
        },
        "id": "_oVHNj_FdDXH",
        "outputId": "d22f0b96-42c1-4626-80ec-f6d984e46984"
      },
      "execution_count": null,
      "outputs": [
        {
          "output_type": "execute_result",
          "data": {
            "text/plain": [
              "((1, 23, 4), 'hi')"
            ]
          },
          "metadata": {},
          "execution_count": 276
        }
      ]
    },
    {
      "cell_type": "code",
      "source": [
        "def ts5(*args):\n",
        "  l = []\n",
        "  for i in args:\n",
        "    if type(i) == tuple:\n",
        "      l.append(i)\n",
        "  return l"
      ],
      "metadata": {
        "id": "HKvAUdL9dHfs"
      },
      "execution_count": null,
      "outputs": []
    },
    {
      "cell_type": "code",
      "source": [
        "ts5(1,3,4,5,(8,9,10,1,2),\"qwh\")"
      ],
      "metadata": {
        "colab": {
          "base_uri": "https://localhost:8080/"
        },
        "id": "5rOmlBG3d9Zm",
        "outputId": "3802a5fd-7f68-4625-b9ac-7bc305a20515"
      },
      "execution_count": null,
      "outputs": [
        {
          "output_type": "execute_result",
          "data": {
            "text/plain": [
              "[(8, 9, 10, 1, 2)]"
            ]
          },
          "metadata": {},
          "execution_count": 278
        }
      ]
    },
    {
      "cell_type": "code",
      "source": [
        "# for dictionaries\n",
        "def t(**kwargs):\n",
        "  return kwargs"
      ],
      "metadata": {
        "id": "AFWnF9fleDPp"
      },
      "execution_count": null,
      "outputs": []
    },
    {
      "cell_type": "code",
      "source": [
        "t8 = t(a=3,b=\"ash\",c = [\"as\",\"asjd\"])"
      ],
      "metadata": {
        "id": "iFRATXXpfHrh"
      },
      "execution_count": null,
      "outputs": []
    },
    {
      "cell_type": "code",
      "source": [
        "def a(**arg):\n",
        "  l=[]\n",
        "  for i in arg.values():\n",
        "    if type(i)== list:\n",
        "      for j in i:\n",
        "        if type(j)==str:\n",
        "          l.append(j)\n",
        "    else:\n",
        "      if type(i)==str:\n",
        "        l.append(i)\n",
        "  return l\n"
      ],
      "metadata": {
        "id": "XRty-VRVfLlr"
      },
      "execution_count": null,
      "outputs": []
    },
    {
      "cell_type": "code",
      "source": [
        "a(a=3,b=\"ash\",c = [\"as\",\"asjd\"])"
      ],
      "metadata": {
        "colab": {
          "base_uri": "https://localhost:8080/"
        },
        "id": "1Bcy_zgNgKP8",
        "outputId": "8df0af9f-d23e-4c75-c040-5fe54a464454"
      },
      "execution_count": null,
      "outputs": [
        {
          "output_type": "execute_result",
          "data": {
            "text/plain": [
              "['ash', 'as', 'asjd']"
            ]
          },
          "metadata": {},
          "execution_count": 282
        }
      ]
    },
    {
      "cell_type": "code",
      "source": [
        "def t0(*args,**kwargs):\n",
        "  return args,kwargs"
      ],
      "metadata": {
        "id": "mPzSSU4cgZcU"
      },
      "execution_count": null,
      "outputs": []
    },
    {
      "cell_type": "code",
      "source": [
        "t0(\"a\",\"b\",1,c=\"asuh\")"
      ],
      "metadata": {
        "colab": {
          "base_uri": "https://localhost:8080/"
        },
        "id": "SwlSDelciQjM",
        "outputId": "5d066503-be71-4ed6-9405-6a4b430d7b80"
      },
      "execution_count": null,
      "outputs": [
        {
          "output_type": "execute_result",
          "data": {
            "text/plain": [
              "(('a', 'b', 1), {'c': 'asuh'})"
            ]
          },
          "metadata": {},
          "execution_count": 284
        }
      ]
    },
    {
      "cell_type": "markdown",
      "source": [
        "# GENERATOR FUNCTION - instead of storing data it throws output."
      ],
      "metadata": {
        "id": "QfXLpAr-ipIk"
      }
    },
    {
      "cell_type": "code",
      "source": [
        "#Fibonacci series\n",
        "#range fn is generator fn\n",
        "def fib(n):\n",
        "  a,b=0,1\n",
        "  for i in range(n):\n",
        "    yield a\n",
        "    a,b = b,a+b"
      ],
      "metadata": {
        "id": "nTDGPunxisg9"
      },
      "execution_count": null,
      "outputs": []
    },
    {
      "cell_type": "code",
      "source": [
        "\n",
        "for i in fib(8):\n",
        "  print(i)"
      ],
      "metadata": {
        "colab": {
          "base_uri": "https://localhost:8080/"
        },
        "id": "m-geTwRIklEn",
        "outputId": "fc2ba618-d2e4-47ef-ff22-f08fcea8c2fe"
      },
      "execution_count": null,
      "outputs": [
        {
          "output_type": "stream",
          "name": "stdout",
          "text": [
            "0\n",
            "1\n",
            "1\n",
            "2\n",
            "3\n",
            "5\n",
            "8\n",
            "13\n"
          ]
        }
      ]
    },
    {
      "cell_type": "code",
      "source": [
        "n = 3\n",
        "p = 2\n"
      ],
      "metadata": {
        "id": "lhj7TM4sROzW"
      },
      "execution_count": null,
      "outputs": []
    },
    {
      "cell_type": "code",
      "source": [
        "def test(n,p):\n",
        "  return n**p"
      ],
      "metadata": {
        "id": "JVMz6wcjRVe2"
      },
      "execution_count": null,
      "outputs": []
    },
    {
      "cell_type": "code",
      "source": [
        "test(1,2)"
      ],
      "metadata": {
        "colab": {
          "base_uri": "https://localhost:8080/"
        },
        "id": "2ojm6svTRb_J",
        "outputId": "671eb0f7-5dc6-4939-b0ab-4b7c3531f53d"
      },
      "execution_count": null,
      "outputs": [
        {
          "output_type": "execute_result",
          "data": {
            "text/plain": [
              "1"
            ]
          },
          "metadata": {},
          "execution_count": 289
        }
      ]
    },
    {
      "cell_type": "markdown",
      "source": [
        "# Lambda Function"
      ],
      "metadata": {
        "id": "0ZdriaAokGBC"
      }
    },
    {
      "cell_type": "code",
      "source": [
        "#LAMBDA FUNCTION - shorthand function\n",
        "a = lambda n,p : n**p #anonymous function\n"
      ],
      "metadata": {
        "id": "yXHWus7hRdXq"
      },
      "execution_count": null,
      "outputs": []
    },
    {
      "cell_type": "code",
      "source": [
        "a(3,2)"
      ],
      "metadata": {
        "id": "CVFGSNDXRt2u",
        "outputId": "b2c07e59-45df-4f58-bc57-e48ef715a56f",
        "colab": {
          "base_uri": "https://localhost:8080/"
        }
      },
      "execution_count": null,
      "outputs": [
        {
          "output_type": "execute_result",
          "data": {
            "text/plain": [
              "9"
            ]
          },
          "metadata": {},
          "execution_count": 291
        }
      ]
    },
    {
      "cell_type": "code",
      "source": [
        "add = lambda x,y : x+y"
      ],
      "metadata": {
        "id": "8bTRrvPORwhl"
      },
      "execution_count": null,
      "outputs": []
    },
    {
      "cell_type": "code",
      "source": [
        "add(2,8)"
      ],
      "metadata": {
        "colab": {
          "base_uri": "https://localhost:8080/"
        },
        "id": "lUDnioiXja6A",
        "outputId": "a2d37fef-0acf-43ca-c167-eca0ca4c0346"
      },
      "execution_count": null,
      "outputs": [
        {
          "output_type": "execute_result",
          "data": {
            "text/plain": [
              "10"
            ]
          },
          "metadata": {},
          "execution_count": 293
        }
      ]
    },
    {
      "cell_type": "code",
      "source": [
        "c_to_f = lambda c : (9/5)*c+32"
      ],
      "metadata": {
        "id": "T6fC0Ab8jczu"
      },
      "execution_count": null,
      "outputs": []
    },
    {
      "cell_type": "code",
      "source": [
        "c_to_f(100)"
      ],
      "metadata": {
        "colab": {
          "base_uri": "https://localhost:8080/"
        },
        "id": "F-jTKbxVjkaS",
        "outputId": "2b89697c-bb84-43c4-dbc5-0d4c5c30191c"
      },
      "execution_count": null,
      "outputs": [
        {
          "output_type": "execute_result",
          "data": {
            "text/plain": [
              "212.0"
            ]
          },
          "metadata": {},
          "execution_count": 295
        }
      ]
    },
    {
      "cell_type": "code",
      "source": [
        "max_two = lambda x,y : x if x>y else y"
      ],
      "metadata": {
        "id": "BeBasPrCjmxi"
      },
      "execution_count": null,
      "outputs": []
    },
    {
      "cell_type": "code",
      "source": [
        "max_two(4,34)"
      ],
      "metadata": {
        "colab": {
          "base_uri": "https://localhost:8080/"
        },
        "id": "6GYcrp-8jxVx",
        "outputId": "2417fdd4-e55c-4d39-822b-545326b7589b"
      },
      "execution_count": null,
      "outputs": [
        {
          "output_type": "execute_result",
          "data": {
            "text/plain": [
              "34"
            ]
          },
          "metadata": {},
          "execution_count": 297
        }
      ]
    },
    {
      "cell_type": "code",
      "source": [
        "s = \"pwskills\"\n",
        "len_st = lambda s:len(s)"
      ],
      "metadata": {
        "id": "_iuquUpyj0EQ"
      },
      "execution_count": null,
      "outputs": []
    },
    {
      "cell_type": "code",
      "source": [
        "len(s)"
      ],
      "metadata": {
        "colab": {
          "base_uri": "https://localhost:8080/"
        },
        "id": "MysfddqmkBEa",
        "outputId": "69eabe28-b706-4d91-d4f5-4fcb26276610"
      },
      "execution_count": null,
      "outputs": [
        {
          "output_type": "execute_result",
          "data": {
            "text/plain": [
              "8"
            ]
          },
          "metadata": {},
          "execution_count": 299
        }
      ]
    },
    {
      "cell_type": "markdown",
      "source": [
        "# Map, Reduce Filter Functions\n",
        "map function does mapping of elements present inside iterable"
      ],
      "metadata": {
        "id": "5dfAKwoVkXhI"
      }
    },
    {
      "cell_type": "code",
      "source": [
        "l = [1,2,3,4,5]\n",
        "def sq(x):\n",
        "  return x**2\n",
        ""
      ],
      "metadata": {
        "id": "9ulMbATRkCO6"
      },
      "execution_count": 307,
      "outputs": []
    },
    {
      "cell_type": "code",
      "source": [
        "list(map(sq,l))# x ko thau ma 1 sq is function"
      ],
      "metadata": {
        "colab": {
          "base_uri": "https://localhost:8080/"
        },
        "id": "IGCN2KkNMdcC",
        "outputId": "f01f05d5-148c-4ffa-a99c-8ef89917c318"
      },
      "execution_count": 310,
      "outputs": [
        {
          "output_type": "execute_result",
          "data": {
            "text/plain": [
              "[1, 4, 9, 16, 25]"
            ]
          },
          "metadata": {},
          "execution_count": 310
        }
      ]
    },
    {
      "cell_type": "code",
      "source": [
        "#passing lambda\n",
        "m = [1,2,3,4,5]\n",
        "list(map(lambda x : x**2 ,m))"
      ],
      "metadata": {
        "colab": {
          "base_uri": "https://localhost:8080/"
        },
        "id": "7KzTCJaXMiIy",
        "outputId": "093e48b6-e24d-41c2-cab6-c65e1e6d147a"
      },
      "execution_count": 316,
      "outputs": [
        {
          "output_type": "execute_result",
          "data": {
            "text/plain": [
              "[1, 4, 9, 16, 25]"
            ]
          },
          "metadata": {},
          "execution_count": 316
        }
      ]
    },
    {
      "cell_type": "code",
      "source": [
        "#converting to other types\n",
        "list(map(lambda y : float(y*2) , m))\n"
      ],
      "metadata": {
        "colab": {
          "base_uri": "https://localhost:8080/"
        },
        "id": "zzsPVBu_fnNG",
        "outputId": "721f70e3-ced9-45be-c33f-f5b17add761d"
      },
      "execution_count": 318,
      "outputs": [
        {
          "output_type": "execute_result",
          "data": {
            "text/plain": [
              "[2.0, 4.0, 6.0, 8.0, 10.0]"
            ]
          },
          "metadata": {},
          "execution_count": 318
        }
      ]
    },
    {
      "cell_type": "code",
      "source": [
        "a = [1,2,3,4,5]\n",
        "b = [6,7,8,9,10]"
      ],
      "metadata": {
        "id": "4-VWIrkcgRjp"
      },
      "execution_count": 319,
      "outputs": []
    },
    {
      "cell_type": "code",
      "source": [
        "list(map(lambda x,y :x+y ,a,b ))# for 2 list"
      ],
      "metadata": {
        "colab": {
          "base_uri": "https://localhost:8080/"
        },
        "id": "jx7vtP-zgsJ-",
        "outputId": "9cadfaff-e40f-44cb-f882-9fadd6ed2e3b"
      },
      "execution_count": 321,
      "outputs": [
        {
          "output_type": "execute_result",
          "data": {
            "text/plain": [
              "[7, 9, 11, 13, 15]"
            ]
          },
          "metadata": {},
          "execution_count": 321
        }
      ]
    },
    {
      "cell_type": "code",
      "source": [
        "l1 = [2,4,6,8]\n",
        "l2 = [1,3,5,7]\n",
        "a = lambda x,y : x-y # assigning variable to lambda"
      ],
      "metadata": {
        "id": "qbzXLn5ihChv"
      },
      "execution_count": 323,
      "outputs": []
    },
    {
      "cell_type": "code",
      "source": [
        "list(map(a,l1,l2))"
      ],
      "metadata": {
        "colab": {
          "base_uri": "https://localhost:8080/"
        },
        "id": "vvnduwuZhVmj",
        "outputId": "4750a90d-f6bb-425b-edce-f36f114010b4"
      },
      "execution_count": 324,
      "outputs": [
        {
          "output_type": "execute_result",
          "data": {
            "text/plain": [
              "[1, 1, 1, 1]"
            ]
          },
          "metadata": {},
          "execution_count": 324
        }
      ]
    },
    {
      "cell_type": "code",
      "source": [
        "s = \"pwskills\" # For strings"
      ],
      "metadata": {
        "id": "QSqSDIR1hjzC"
      },
      "execution_count": 327,
      "outputs": []
    },
    {
      "cell_type": "code",
      "source": [
        "list(map(lambda x : x.upper() , s))"
      ],
      "metadata": {
        "colab": {
          "base_uri": "https://localhost:8080/"
        },
        "id": "kbm79jmTh3hO",
        "outputId": "d22aead4-0101-4326-b8d3-34e4d7deb419"
      },
      "execution_count": 328,
      "outputs": [
        {
          "output_type": "execute_result",
          "data": {
            "text/plain": [
              "['P', 'W', 'S', 'K', 'I', 'L', 'L', 'S']"
            ]
          },
          "metadata": {},
          "execution_count": 328
        }
      ]
    },
    {
      "cell_type": "markdown",
      "source": [
        "REDUCE\n"
      ],
      "metadata": {
        "id": "5Fq8bICdkC6X"
      }
    },
    {
      "cell_type": "code",
      "source": [
        "# REDUCE it takes first argumnt as function and second as iterable varible\n",
        "from functools import reduce\n",
        "l = [1,2,3,4,5,6]\n",
        "reduce(lambda x,y : x + y , l)"
      ],
      "metadata": {
        "colab": {
          "base_uri": "https://localhost:8080/"
        },
        "id": "5yerJkxTiAg1",
        "outputId": "3d21c94f-8caa-4d49-e9df-55750700c163"
      },
      "execution_count": 332,
      "outputs": [
        {
          "output_type": "execute_result",
          "data": {
            "text/plain": [
              "21"
            ]
          },
          "metadata": {},
          "execution_count": 332
        }
      ]
    },
    {
      "cell_type": "code",
      "source": [
        "#3 parameter is not working\n",
        "# 1 element will work\n",
        "reduce(lambda x,y : x if x > y else y , l)# checking the maximum\n"
      ],
      "metadata": {
        "colab": {
          "base_uri": "https://localhost:8080/"
        },
        "id": "5n-zcW86i6s-",
        "outputId": "70eea55a-4073-4743-9d9e-ea8b2ddafd87"
      },
      "execution_count": 335,
      "outputs": [
        {
          "output_type": "execute_result",
          "data": {
            "text/plain": [
              "6"
            ]
          },
          "metadata": {},
          "execution_count": 335
        }
      ]
    },
    {
      "cell_type": "markdown",
      "source": [
        "FILTER"
      ],
      "metadata": {
        "id": "AzmM3bo-lAMS"
      }
    },
    {
      "cell_type": "code",
      "source": [
        "l = [1,2,3,4,5,6]\n"
      ],
      "metadata": {
        "id": "g9MBaHf6kTAH"
      },
      "execution_count": 336,
      "outputs": []
    },
    {
      "cell_type": "code",
      "source": [
        "list(filter(lambda x :   x % 2 == 0 , l))"
      ],
      "metadata": {
        "colab": {
          "base_uri": "https://localhost:8080/"
        },
        "id": "Ndo0TS_BlGwM",
        "outputId": "b461833b-edee-4ae0-fa00-31537c92dd84"
      },
      "execution_count": 338,
      "outputs": [
        {
          "output_type": "execute_result",
          "data": {
            "text/plain": [
              "[2, 4, 6]"
            ]
          },
          "metadata": {},
          "execution_count": 338
        }
      ]
    },
    {
      "cell_type": "code",
      "source": [
        "l2 = [\"sudh\",\"pwskills\",\"kumar\",\"bangalore\",\"krish\"]\n"
      ],
      "metadata": {
        "id": "3emHh2Z9lw-7"
      },
      "execution_count": 339,
      "outputs": []
    },
    {
      "cell_type": "code",
      "source": [
        "\n",
        "list(filter(lambda x : len(x)<6 , l2))"
      ],
      "metadata": {
        "colab": {
          "base_uri": "https://localhost:8080/"
        },
        "id": "KJGraNm-meeT",
        "outputId": "8a8ccf06-91e6-4935-e491-3e1c20f9a39b"
      },
      "execution_count": 340,
      "outputs": [
        {
          "output_type": "execute_result",
          "data": {
            "text/plain": [
              "['sudh', 'kumar', 'krish']"
            ]
          },
          "metadata": {},
          "execution_count": 340
        }
      ]
    },
    {
      "cell_type": "code",
      "source": [],
      "metadata": {
        "id": "XiKRbLRam8gN"
      },
      "execution_count": null,
      "outputs": []
    }
  ]
}