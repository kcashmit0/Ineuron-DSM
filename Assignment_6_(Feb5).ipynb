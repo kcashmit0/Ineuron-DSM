{
  "nbformat": 4,
  "nbformat_minor": 0,
  "metadata": {
    "colab": {
      "provenance": [],
      "authorship_tag": "ABX9TyOYQHtAwULisqstyPeexz7N",
      "include_colab_link": true
    },
    "kernelspec": {
      "name": "python3",
      "display_name": "Python 3"
    },
    "language_info": {
      "name": "python"
    }
  },
  "cells": [
    {
      "cell_type": "markdown",
      "metadata": {
        "id": "view-in-github",
        "colab_type": "text"
      },
      "source": [
        "<a href=\"https://colab.research.google.com/github/kcashmit0/Ineuron-DSM/blob/Assignment/Assignment_6_(Feb5).ipynb\" target=\"_parent\"><img src=\"https://colab.research.google.com/assets/colab-badge.svg\" alt=\"Open In Colab\"/></a>"
      ]
    },
    {
      "cell_type": "markdown",
      "source": [
        "#QN 1"
      ],
      "metadata": {
        "id": "xWqBbBf0oHJH"
      }
    },
    {
      "cell_type": "markdown",
      "source": [
        "A class is a template which defines a set of behaviours that the created objects belonging to it will have. An object is a specific entity which is created from a class ."
      ],
      "metadata": {
        "id": "3i-D_-e-oJnv"
      }
    },
    {
      "cell_type": "code",
      "source": [
        "class car:# Car is a class\n",
        "  def __init__(hello,color,mileage):\n",
        "    hello.color = color\n",
        "    hello.mileage = mileage\n",
        "  def car_details(hello):\n",
        "    return hello.color,hello.mileage\n",
        "\n",
        "\n"
      ],
      "metadata": {
        "id": "MkkSdYRSoIth"
      },
      "execution_count": 3,
      "outputs": []
    },
    {
      "cell_type": "code",
      "source": [
        "bmw = car(\"black\",\"20km\")# bmw is an object"
      ],
      "metadata": {
        "id": "MmSxbTMJpakE"
      },
      "execution_count": 4,
      "outputs": []
    },
    {
      "cell_type": "code",
      "source": [
        "bmw.car_details()"
      ],
      "metadata": {
        "colab": {
          "base_uri": "https://localhost:8080/"
        },
        "id": "6dLE8b2Qp0RF",
        "outputId": "120ffda8-bcef-437f-b62e-f8bd50245eb1"
      },
      "execution_count": 6,
      "outputs": [
        {
          "output_type": "execute_result",
          "data": {
            "text/plain": [
              "('black', '20km')"
            ]
          },
          "metadata": {},
          "execution_count": 6
        }
      ]
    },
    {
      "cell_type": "markdown",
      "source": [
        "# QN 2\n",
        "Encapsulation, Abstraction, Inheritance, and Polymorphism are four pillars of OOPS."
      ],
      "metadata": {
        "id": "77EgEFv7qB8i"
      }
    },
    {
      "cell_type": "markdown",
      "source": [
        "# QN 3\n",
        "___init_ __() function is used as constructor that helps ti provide properties or attributes to an object of the given class."
      ],
      "metadata": {
        "id": "NTOED_wuqhb5"
      }
    },
    {
      "cell_type": "code",
      "source": [
        "class animal:\n",
        "  def __init__(self,division,eating_habit):\n",
        "    self.division = division\n",
        "    self.eating_habit = eating_habit\n",
        "  def animal_detail(self):\n",
        "    return self.division , self.eating_habit"
      ],
      "metadata": {
        "id": "R3DHEdd6qFi9"
      },
      "execution_count": 47,
      "outputs": []
    },
    {
      "cell_type": "code",
      "source": [
        "cow = animal(\"vertebrate\",\"herbivorous\")\n"
      ],
      "metadata": {
        "id": "7H0gq94Fqg_j"
      },
      "execution_count": 48,
      "outputs": []
    },
    {
      "cell_type": "code",
      "source": [
        "cow.animal_detail()"
      ],
      "metadata": {
        "colab": {
          "base_uri": "https://localhost:8080/"
        },
        "id": "BgBPfWgMsPGZ",
        "outputId": "e0e659ee-0256-4553-a48b-5898fa1cd235"
      },
      "execution_count": 49,
      "outputs": [
        {
          "output_type": "execute_result",
          "data": {
            "text/plain": [
              "('vertebrate', 'herbivorous')"
            ]
          },
          "metadata": {},
          "execution_count": 49
        }
      ]
    },
    {
      "cell_type": "markdown",
      "source": [
        "#QN 4\n",
        "self is used in OOPs for following reasons:\n",
        "\n",
        "*   It helps distinguish instance variables from local variables\n",
        "\n",
        "*   for clarity and consistency\n",
        "\n"
      ],
      "metadata": {
        "id": "9N9-Cyc8vX7w"
      }
    },
    {
      "cell_type": "markdown",
      "source": [
        "# QN 5\n",
        "Inheritance is defined as an procedure that helps a new class  to inherit attributes and behaviors from an existing class .\n",
        "The types of inheritances are as follow:\n",
        "\n",
        "\n",
        "1.   Single Inheritance : inherits from only one superclass\n",
        "2.  Multiple Inheritance :  inherits from more than one superclass\n",
        "\n",
        "3.  Multilevel Inheritance: In multilevel inheritance, a subclass inherits from a superclass, and another class inherits from this subclass.\n",
        "\n",
        "\n",
        "\n"
      ],
      "metadata": {
        "id": "rv2jOz5TvxsD"
      }
    },
    {
      "cell_type": "code",
      "source": [
        "# Single inheritance:\n",
        "class Flower:\n",
        "  def color(self):\n",
        "    print(\"It is colored.\")\n",
        "class Marigold(Flower):\n",
        "  def odour(self):\n",
        "    print(\"It has pleasant odour\")\n",
        "flower1 = Marigold()\n",
        "flower1.color()\n",
        "flower1.odour()\n",
        "\n",
        "\n",
        ""
      ],
      "metadata": {
        "colab": {
          "base_uri": "https://localhost:8080/"
        },
        "id": "u-EUIzmss1iR",
        "outputId": "7d4fcc44-0c99-441a-9099-d87ad43919bb"
      },
      "execution_count": 50,
      "outputs": [
        {
          "output_type": "stream",
          "name": "stdout",
          "text": [
            "It is colored.\n",
            "It has pleasant odour\n"
          ]
        }
      ]
    },
    {
      "cell_type": "code",
      "source": [
        "# Multiple inheritance\n",
        "class mammal:\n",
        " def mam(self):\n",
        "    print(\"is a mammal\")\n",
        "\n",
        "class reptile:\n",
        "  def crawl(self):\n",
        "    print(\"is a reptile\")\n",
        "\n",
        "class animalia(mammal,reptile):\n",
        "  def vertebrate(self):\n",
        "    print(\"has backbone\")\n",
        "\n",
        "ani_mal = animalia()\n",
        "ani_mal.mam()\n",
        "ani_mal.crawl()\n",
        "ani_mal.vertebrate()\n"
      ],
      "metadata": {
        "colab": {
          "base_uri": "https://localhost:8080/"
        },
        "id": "3gawIEAs5lYK",
        "outputId": "b38d471d-884c-4360-805d-69fb122391d3"
      },
      "execution_count": 51,
      "outputs": [
        {
          "output_type": "stream",
          "name": "stdout",
          "text": [
            "is a mammal\n",
            "is a reptile\n",
            "has backbone\n"
          ]
        }
      ]
    },
    {
      "cell_type": "code",
      "source": [
        "# Multilevel Inheritance:\n",
        "class Vehicle:\n",
        "    def start(self):\n",
        "        print(\"Vehicle starts\")\n",
        "\n",
        "class Car(Vehicle):\n",
        "    def drive(self):\n",
        "        print(\"Car drives\")\n",
        "\n",
        "class SportsCar(Car):\n",
        "    def race(self):\n",
        "        print(\"SportsCar races\")\n",
        "\n",
        "my_sports_car = SportsCar()\n",
        "my_sports_car.start()\n",
        "my_sports_car.drive()\n",
        "my_sports_car.race()\n"
      ],
      "metadata": {
        "colab": {
          "base_uri": "https://localhost:8080/"
        },
        "id": "ue6EbTFv7OEB",
        "outputId": "9c9c7a44-b698-4bce-eb1f-92caf4952234"
      },
      "execution_count": 52,
      "outputs": [
        {
          "output_type": "stream",
          "name": "stdout",
          "text": [
            "Vehicle starts\n",
            "Car drives\n",
            "SportsCar races\n"
          ]
        }
      ]
    }
  ]
}