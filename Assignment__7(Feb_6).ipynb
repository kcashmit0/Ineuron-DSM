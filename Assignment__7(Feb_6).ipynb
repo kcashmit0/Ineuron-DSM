{
  "nbformat": 4,
  "nbformat_minor": 0,
  "metadata": {
    "colab": {
      "provenance": [],
      "authorship_tag": "ABX9TyOUfxGL6wrseMKMNmfmBzsm"
    },
    "kernelspec": {
      "name": "python3",
      "display_name": "Python 3"
    },
    "language_info": {
      "name": "python"
    }
  },
  "cells": [
    {
      "cell_type": "markdown",
      "source": [
        "#QN 1"
      ],
      "metadata": {
        "id": "hviUvb1MbhPE"
      }
    },
    {
      "cell_type": "code",
      "source": [
        "list1 = [1,2,3,4, [44,55,66, True], False, (34,56,78,89,34), {1,2,3,3,2,1}, {1:34, \"key2\": [55, 67, 78, 89], 4: (45,\n",
        "22, 61, 34)}, [56, 'data science'], 'Machine Learning']"
      ],
      "metadata": {
        "id": "NKAdGRzKvZRJ"
      },
      "execution_count": 36,
      "outputs": []
    },
    {
      "cell_type": "code",
      "source": [
        "from functools import reduce\n",
        "def num(arg):\n",
        "  l = []\n",
        "  for z in arg:\n",
        "    if type(z) == int or type(z) == bool or type(z) == str:\n",
        "      l.append(z)\n",
        "    elif type(z) == list:\n",
        "      for v in z:\n",
        "        l.append(v)\n",
        "    elif type(z) == tuple:\n",
        "      for u in z:\n",
        "        l.append(u)\n",
        "    elif type(z) == set:\n",
        "      for x in z:\n",
        "        l.append(x)\n",
        "    else:\n",
        "      for t in z.keys():\n",
        "          l.append(t)\n",
        "      for s in z.values():\n",
        "        if type(s) ==int:\n",
        "          l.append(s)\n",
        "        else:\n",
        "          for r in s:\n",
        "            l.append(r)\n",
        "\n",
        "  q = list(filter(lambda a : type(a) == int , l))\n",
        "  p = reduce(lambda b,c : b*c , q) # q , since reduction from list q\n",
        "  return q,p"
      ],
      "metadata": {
        "id": "DJaoT73TxkxM"
      },
      "execution_count": 42,
      "outputs": []
    },
    {
      "cell_type": "code",
      "source": [
        "print(num(list1),end = \"\")"
      ],
      "metadata": {
        "colab": {
          "base_uri": "https://localhost:8080/"
        },
        "id": "an74S8OS0too",
        "outputId": "91f5a68e-9a82-4631-85f5-46c3ece723ec"
      },
      "execution_count": 44,
      "outputs": [
        {
          "output_type": "stream",
          "name": "stdout",
          "text": [
            "([1, 2, 3, 4, 44, 55, 66, 34, 56, 78, 89, 34, 1, 2, 3, 1, 4, 34, 55, 67, 78, 89, 45, 22, 61, 34, 56], 4134711838987085478833841242112000)"
          ]
        }
      ]
    },
    {
      "cell_type": "code",
      "source": [
        "print(p)# p = product"
      ],
      "metadata": {
        "colab": {
          "base_uri": "https://localhost:8080/"
        },
        "id": "QASdefUP0zH3",
        "outputId": "08f70396-c9e2-4cd0-a7ce-bf659477b779"
      },
      "execution_count": 45,
      "outputs": [
        {
          "output_type": "stream",
          "name": "stdout",
          "text": [
            "4134711838987085478833841242112000\n"
          ]
        }
      ]
    },
    {
      "cell_type": "markdown",
      "source": [
        "#QN 2\n"
      ],
      "metadata": {
        "id": "pWWpmM8a1Sy5"
      }
    },
    {
      "cell_type": "code",
      "source": [
        "def encrypt(sentence):\n",
        "  sentence = sentence.lower()\n",
        "  encryption = {}\n",
        "  for i in range(26):\n",
        "    encryption[chr(i + ord(\"a\"))] = chr((25-i)+ord(\"a\"))\n",
        "  encryption[\" \"] = \"$\"\n",
        "  encrypt1 = \" \"\n",
        "  for b in sentence:\n",
        "    if b in encryption:\n",
        "      encrypt1 += encryption[b]\n",
        "    else:\n",
        "      encrypt1 += b\n",
        "  return encrypt1"
      ],
      "metadata": {
        "id": "4afh0a051yHO"
      },
      "execution_count": 64,
      "outputs": []
    },
    {
      "cell_type": "code",
      "source": [
        "sentence = \"I want to become a Data Scientist.\""
      ],
      "metadata": {
        "id": "jIAq8xr78GKQ"
      },
      "execution_count": 65,
      "outputs": []
    },
    {
      "cell_type": "code",
      "source": [
        "print(encrypt(sentence))"
      ],
      "metadata": {
        "colab": {
          "base_uri": "https://localhost:8080/"
        },
        "id": "96CjkKFYKjaB",
        "outputId": "6f3bea58-f01f-4d0f-a2b0-66985fbf656a"
      },
      "execution_count": 66,
      "outputs": [
        {
          "output_type": "stream",
          "name": "stdout",
          "text": [
            " r$dzmg$gl$yvxlnv$z$wzgz$hxrvmgrhg.\n"
          ]
        }
      ]
    },
    {
      "cell_type": "code",
      "source": [],
      "metadata": {
        "id": "uIPu5qcqKv63"
      },
      "execution_count": null,
      "outputs": []
    }
  ]
}