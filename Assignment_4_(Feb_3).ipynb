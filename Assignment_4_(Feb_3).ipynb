{
  "nbformat": 4,
  "nbformat_minor": 0,
  "metadata": {
    "colab": {
      "provenance": []
    },
    "kernelspec": {
      "name": "python3",
      "display_name": "Python 3"
    },
    "language_info": {
      "name": "python"
    }
  },
  "cells": [
    {
      "cell_type": "markdown",
      "source": [
        "#QN 1\n",
        " The 'def' keyword is used to create a function.\n"
      ],
      "metadata": {
        "id": "aCDNQYd7lfB5"
      }
    },
    {
      "cell_type": "code",
      "execution_count": 11,
      "metadata": {
        "id": "rBBT4eiWlYwP",
        "colab": {
          "base_uri": "https://localhost:8080/"
        },
        "outputId": "0bd65d24-47fd-4a07-e0dc-9eb72fd1223b"
      },
      "outputs": [
        {
          "output_type": "stream",
          "name": "stdout",
          "text": [
            "[1, 3, 5, 7, 9, 11, 13, 15, 17, 19, 21, 23, 25]\n"
          ]
        }
      ],
      "source": [
        "def odd_num():\n",
        "  oddnum = []\n",
        "  for i in range (1,26):\n",
        "    if i %2 != 0 :\n",
        "      oddnum.append(i)\n",
        "  return oddnum\n",
        "print(odd_num())\n",
        "\n"
      ]
    },
    {
      "cell_type": "markdown",
      "source": [
        "# QN 2\n",
        "To pass variable number of positional arguments, *args is used . Similarly , to pass variable number of key-value arguments, **kwargs is used."
      ],
      "metadata": {
        "id": "hwLt44QEigza"
      }
    },
    {
      "cell_type": "code",
      "source": [
        "# A function to return the product of the numbers passed as arguments\n",
        "def prod(*args):\n",
        "  a = 1\n",
        "  for i in args:\n",
        "    a = i * a\n",
        "  return a"
      ],
      "metadata": {
        "id": "9ZuR0IqYiUwQ"
      },
      "execution_count": 12,
      "outputs": []
    },
    {
      "cell_type": "code",
      "source": [
        "prod(3,4,5,8,10)"
      ],
      "metadata": {
        "colab": {
          "base_uri": "https://localhost:8080/"
        },
        "id": "SwnQPYvPkOgA",
        "outputId": "457d69f6-d58f-4875-8cce-8d5a12fc4b02"
      },
      "execution_count": 13,
      "outputs": [
        {
          "output_type": "execute_result",
          "data": {
            "text/plain": [
              "4800"
            ]
          },
          "metadata": {},
          "execution_count": 13
        }
      ]
    },
    {
      "cell_type": "markdown",
      "source": [
        "#QN 3\n",
        "An iterator is a tool used for efficient access to elements in a sequence one at a time.The initialization method for an iterator is typically __iter__() and the method to iterate is __next__()."
      ],
      "metadata": {
        "id": "mZyB6WODktf_"
      }
    },
    {
      "cell_type": "code",
      "source": [
        "\n",
        "my_list = [2, 4, 6, 8, 10, 12, 14, 16, 18, 20]\n",
        "itera = iter(my_list)\n",
        "for _ in range(5):\n",
        "    element = next(itera)\n",
        "    print(element)\n"
      ],
      "metadata": {
        "colab": {
          "base_uri": "https://localhost:8080/"
        },
        "id": "ylsyJTgyThOQ",
        "outputId": "566f3d41-ecdd-45ef-ba08-8f41c0725760"
      },
      "execution_count": 14,
      "outputs": [
        {
          "output_type": "stream",
          "name": "stdout",
          "text": [
            "2\n",
            "4\n",
            "6\n",
            "8\n",
            "10\n"
          ]
        }
      ]
    },
    {
      "cell_type": "markdown",
      "source": [
        "# QN 4\n",
        "Generator function is a function that throws output without storing data in the memory. \"yeild\" is used in generator function instead of \"return\" to produce series of values."
      ],
      "metadata": {
        "id": "Y2ZjCfoUreXi"
      }
    },
    {
      "cell_type": "code",
      "source": [
        "def genseq(n):\n",
        "  for i in range(n):\n",
        "    yield i**3\n"
      ],
      "metadata": {
        "id": "8fPQbGyjsYPY"
      },
      "execution_count": 15,
      "outputs": []
    },
    {
      "cell_type": "code",
      "source": [
        "for  a in genseq(10):\n",
        "  print(a)"
      ],
      "metadata": {
        "colab": {
          "base_uri": "https://localhost:8080/"
        },
        "id": "IF4WYMnazMRR",
        "outputId": "d64e8a7c-724c-416e-c757-7442381007c2"
      },
      "execution_count": 16,
      "outputs": [
        {
          "output_type": "stream",
          "name": "stdout",
          "text": [
            "0\n",
            "1\n",
            "8\n",
            "27\n",
            "64\n",
            "125\n",
            "216\n",
            "343\n",
            "512\n",
            "729\n"
          ]
        }
      ]
    },
    {
      "cell_type": "markdown",
      "source": [
        "#QN 5\n"
      ],
      "metadata": {
        "id": "UAl24MX2zbMM"
      }
    },
    {
      "cell_type": "code",
      "source": [
        "def prime_num(num, pn):\n",
        "    for i in pn:\n",
        "        if num % i == 0:\n",
        "            return False\n",
        "    return True\n",
        "\n",
        "def prime_list():\n",
        "    pn = []\n",
        "    input_num = 2\n",
        "    while input_num < 1000:\n",
        "        if prime_num(input_num, pn):\n",
        "            yield input_num\n",
        "            pn.append(input_num)\n",
        "        input_num += 1\n",
        "pl = prime_list()\n",
        "for _ in range(20):\n",
        "    print(next(pl))\n"
      ],
      "metadata": {
        "id": "gg4BlGH4zU5C",
        "colab": {
          "base_uri": "https://localhost:8080/"
        },
        "outputId": "964ac9bc-1c03-409d-9b93-27ae7b05a034"
      },
      "execution_count": 22,
      "outputs": [
        {
          "output_type": "stream",
          "name": "stdout",
          "text": [
            "2\n",
            "3\n",
            "5\n",
            "7\n",
            "11\n",
            "13\n",
            "17\n",
            "19\n",
            "23\n",
            "29\n",
            "31\n",
            "37\n",
            "41\n",
            "43\n",
            "47\n",
            "53\n",
            "59\n",
            "61\n",
            "67\n",
            "71\n"
          ]
        }
      ]
    }
  ]
}