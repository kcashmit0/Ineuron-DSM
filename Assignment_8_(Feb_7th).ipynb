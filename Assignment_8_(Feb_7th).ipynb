{
  "nbformat": 4,
  "nbformat_minor": 0,
  "metadata": {
    "colab": {
      "provenance": [],
      "authorship_tag": "ABX9TyNnk9wX9o52U9BLpiK2U2Op"
    },
    "kernelspec": {
      "name": "python3",
      "display_name": "Python 3"
    },
    "language_info": {
      "name": "python"
    }
  },
  "cells": [
    {
      "cell_type": "markdown",
      "source": [
        "#QN 1"
      ],
      "metadata": {
        "id": "CfnUtkyMMfSE"
      }
    },
    {
      "cell_type": "code",
      "source": [
        "import re"
      ],
      "metadata": {
        "id": "5LCokj0YS3_W"
      },
      "execution_count": 44,
      "outputs": []
    },
    {
      "cell_type": "code",
      "source": [
        "import re\n",
        "\n",
        "def check_password(password):\n",
        "    if len(password) != 10:\n",
        "        return \"Invalid Password\"\n",
        "\n",
        "    uppercase_count = sum(1 for char in password if char.isupper())\n",
        "    lowercase_count = sum(1 for char in password if char.islower())\n",
        "\n",
        "    if uppercase_count < 2 or lowercase_count < 2:\n",
        "        return \"Invalid Password\"\n",
        "\n",
        "    if not re.search(r'\\d', password) or len(re.findall(r'[_@$]', password)) < 3:\n",
        "        return \"Invalid Password\"\n",
        "\n",
        "    return \"Valid Password\"\n",
        ""
      ],
      "metadata": {
        "id": "R8qimlHPUtSn"
      },
      "execution_count": 45,
      "outputs": []
    },
    {
      "cell_type": "code",
      "source": [
        "check_password(\"ajdakjqiw132\")"
      ],
      "metadata": {
        "colab": {
          "base_uri": "https://localhost:8080/",
          "height": 36
        },
        "id": "_rXZMOPWAE6F",
        "outputId": "fb7217fc-6f68-46f8-fc6e-ea920589b364"
      },
      "execution_count": 46,
      "outputs": [
        {
          "output_type": "execute_result",
          "data": {
            "text/plain": [
              "'Invalid Password'"
            ],
            "application/vnd.google.colaboratory.intrinsic+json": {
              "type": "string"
            }
          },
          "metadata": {},
          "execution_count": 46
        }
      ]
    },
    {
      "cell_type": "markdown",
      "source": [
        "#QN 2"
      ],
      "metadata": {
        "id": "wQaXNMCpK_80"
      }
    },
    {
      "cell_type": "code",
      "source": [],
      "metadata": {
        "id": "iE6cjd-EABrS"
      },
      "execution_count": 46,
      "outputs": []
    },
    {
      "cell_type": "code",
      "source": [
        "# Check if the string starts with a particular letter.\n",
        "check = lambda string,letter : string[0]==letter\n",
        "print(check(\"Pwskills\",\"P\"))\n",
        "print(check(\"Pwskills\",\"p\"))"
      ],
      "metadata": {
        "id": "sCZ_RQNTL7IB",
        "colab": {
          "base_uri": "https://localhost:8080/"
        },
        "outputId": "99c14e98-df46-415a-ef76-43651cf167aa"
      },
      "execution_count": 47,
      "outputs": [
        {
          "output_type": "stream",
          "name": "stdout",
          "text": [
            "True\n",
            "False\n"
          ]
        }
      ]
    },
    {
      "cell_type": "code",
      "source": [
        "#Check if the string is numeric.\n",
        "numeric = lambda i : i.isdigit()\n",
        "print(numeric(\"pwskills2\"))"
      ],
      "metadata": {
        "colab": {
          "base_uri": "https://localhost:8080/"
        },
        "id": "1PeieCga4fxm",
        "outputId": "fd7db251-9781-46ce-fe8d-ddc4bdb87c84"
      },
      "execution_count": 48,
      "outputs": [
        {
          "output_type": "stream",
          "name": "stdout",
          "text": [
            "False\n"
          ]
        }
      ]
    },
    {
      "cell_type": "code",
      "source": [
        "#Sort a list of tuples having fruit names and their quantity. [(\"mango\",99),(\"orange\",80), (\"grapes\", 1000)-\n",
        "l1 = [(\"mango\",99),(\"orange\",80), (\"grapes\", 1000)]"
      ],
      "metadata": {
        "id": "gALxHCSD48Tv"
      },
      "execution_count": 49,
      "outputs": []
    },
    {
      "cell_type": "code",
      "source": [
        "sorted_fruits = sorted(l1 , key = lambda x : x[1] )\n",
        "print(sorted_fruits)"
      ],
      "metadata": {
        "colab": {
          "base_uri": "https://localhost:8080/"
        },
        "id": "6HbZ57ej650u",
        "outputId": "7fd43a39-758a-4d44-e133-5a768198922f"
      },
      "execution_count": 50,
      "outputs": [
        {
          "output_type": "stream",
          "name": "stdout",
          "text": [
            "[('orange', 80), ('mango', 99), ('grapes', 1000)]\n"
          ]
        }
      ]
    },
    {
      "cell_type": "code",
      "source": [
        "#Find the squares of numbers from 1 to 10.\n",
        "l1 = list(range(1,11))\n",
        "print(l1)"
      ],
      "metadata": {
        "colab": {
          "base_uri": "https://localhost:8080/"
        },
        "id": "Yo3gDBci48Xu",
        "outputId": "b546c005-f2cd-45dd-afc6-bac74d3792d5"
      },
      "execution_count": 51,
      "outputs": [
        {
          "output_type": "stream",
          "name": "stdout",
          "text": [
            "[1, 2, 3, 4, 5, 6, 7, 8, 9, 10]\n"
          ]
        }
      ]
    },
    {
      "cell_type": "code",
      "source": [
        "square = list(map(lambda x : x**2 ,l1))\n",
        "print(square)\n"
      ],
      "metadata": {
        "colab": {
          "base_uri": "https://localhost:8080/"
        },
        "id": "u-DvTpJk9LCt",
        "outputId": "64794156-2a45-4464-9ec9-3d74f9776e8e"
      },
      "execution_count": 52,
      "outputs": [
        {
          "output_type": "stream",
          "name": "stdout",
          "text": [
            "[1, 4, 9, 16, 25, 36, 49, 64, 81, 100]\n"
          ]
        }
      ]
    },
    {
      "cell_type": "code",
      "source": [
        "#Find the cube root of numbers from 1 to 10Y\n",
        "c1 = list(range(1,11))"
      ],
      "metadata": {
        "id": "jcvUyVoq5J2V"
      },
      "execution_count": 53,
      "outputs": []
    },
    {
      "cell_type": "code",
      "source": [
        "cube_root = list(map(lambda x : x**1/3 , c1))\n",
        "print(cube_root)"
      ],
      "metadata": {
        "colab": {
          "base_uri": "https://localhost:8080/"
        },
        "id": "itB9HXRH-F6N",
        "outputId": "264b0582-db05-4bcb-cd65-7b578f8d7c69"
      },
      "execution_count": 54,
      "outputs": [
        {
          "output_type": "stream",
          "name": "stdout",
          "text": [
            "[0.3333333333333333, 0.6666666666666666, 1.0, 1.3333333333333333, 1.6666666666666667, 2.0, 2.3333333333333335, 2.6666666666666665, 3.0, 3.3333333333333335]\n"
          ]
        }
      ]
    },
    {
      "cell_type": "code",
      "source": [
        "#Check if a given number is even\n",
        "check1 = lambda x : x%2 == 0\n",
        "check1(123)"
      ],
      "metadata": {
        "colab": {
          "base_uri": "https://localhost:8080/"
        },
        "id": "cQnAqmcq5LqF",
        "outputId": "f6d74a7f-b934-47b4-ecc0-ea5aa221b22b"
      },
      "execution_count": 55,
      "outputs": [
        {
          "output_type": "execute_result",
          "data": {
            "text/plain": [
              "False"
            ]
          },
          "metadata": {},
          "execution_count": 55
        }
      ]
    },
    {
      "cell_type": "code",
      "source": [
        "#Filter odd numbers from the given list.[1,2,3,4,5,6,7,8,9,10]\n",
        "l2 = list(range(1,11))\n",
        "odd_num = list(filter(lambda x : x % 2 != 0 ,l1))\n",
        "print(odd_num)"
      ],
      "metadata": {
        "colab": {
          "base_uri": "https://localhost:8080/"
        },
        "id": "rTsB8-M95PHx",
        "outputId": "32553b80-3b44-4764-c885-280fdabefcbf"
      },
      "execution_count": 56,
      "outputs": [
        {
          "output_type": "stream",
          "name": "stdout",
          "text": [
            "[1, 3, 5, 7, 9]\n"
          ]
        }
      ]
    },
    {
      "cell_type": "code",
      "source": [
        "#Sort a list of integers into positive and negative integers lists.\n",
        "l3 = [1,2,3,4,5,6,-1,-2,-3,-4,-5,0]\n",
        "posi_int = list(filter (lambda x : x > 0 , l3))\n",
        "nega_int = list(filter (lambda x : x < 0 , l3))\n",
        "print(posi_int)\n",
        "print(nega_int)\n"
      ],
      "metadata": {
        "colab": {
          "base_uri": "https://localhost:8080/"
        },
        "id": "etJ-v_5B5Sld",
        "outputId": "76582a89-ca68-4949-eea7-360561cb3a49"
      },
      "execution_count": 57,
      "outputs": [
        {
          "output_type": "stream",
          "name": "stdout",
          "text": [
            "[1, 2, 3, 4, 5, 6]\n",
            "[-1, -2, -3, -4, -5]\n"
          ]
        }
      ]
    },
    {
      "cell_type": "code",
      "source": [],
      "metadata": {
        "id": "ZtlXV5e-_pCC"
      },
      "execution_count": 57,
      "outputs": []
    }
  ]
}