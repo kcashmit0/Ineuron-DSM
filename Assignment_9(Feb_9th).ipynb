{
  "nbformat": 4,
  "nbformat_minor": 0,
  "metadata": {
    "colab": {
      "provenance": [],
      "authorship_tag": "ABX9TyNq2v7LvfVS7YDkqMm+Tqxx"
    },
    "kernelspec": {
      "name": "python3",
      "display_name": "Python 3"
    },
    "language_info": {
      "name": "python"
    }
  },
  "cells": [
    {
      "cell_type": "markdown",
      "source": [
        "#QN 1"
      ],
      "metadata": {
        "id": "0MeGWER8llT7"
      }
    },
    {
      "cell_type": "code",
      "source": [
        "class vehicle:\n",
        "  def __init__(self,name_of_vehicle,max_speed,average_of_vehicle):\n",
        "    self.name_of_vehicle = name_of_vehicle\n",
        "    self.max_speed = max_speed\n",
        "    self.average_of_vehicle = average_of_vehicle\n",
        "\n",
        "  def return_vehicle_detail(self):\n",
        "      return self.name_of_vehicle,self.max_speed,self.average_of_vehicle"
      ],
      "metadata": {
        "id": "_UzdmBgUlhf7"
      },
      "execution_count": 27,
      "outputs": []
    },
    {
      "cell_type": "code",
      "source": [
        "vehicle_A = vehicle(\"hyundai_i10\",120,25)"
      ],
      "metadata": {
        "id": "o6P8DTrxm62R"
      },
      "execution_count": 28,
      "outputs": []
    },
    {
      "cell_type": "code",
      "source": [
        "vehicle_A.return_vehicle_detail()"
      ],
      "metadata": {
        "colab": {
          "base_uri": "https://localhost:8080/"
        },
        "id": "L0y0A19kn48F",
        "outputId": "ff95db29-182b-43d0-c6b9-0922e2052eab"
      },
      "execution_count": 29,
      "outputs": [
        {
          "output_type": "execute_result",
          "data": {
            "text/plain": [
              "('hyundai_i10', 120, 25)"
            ]
          },
          "metadata": {},
          "execution_count": 29
        }
      ]
    },
    {
      "cell_type": "markdown",
      "source": [
        "#QN 2"
      ],
      "metadata": {
        "id": "IvLVMYbioP10"
      }
    },
    {
      "cell_type": "code",
      "source": [
        "class car(vehicle):\n",
        "  def capacity(self,seating_capacity):\n",
        "    return f\" {self.name_of_vehicle} has {seating_capacity} seats\""
      ],
      "metadata": {
        "id": "qro43yFeoCx2"
      },
      "execution_count": 30,
      "outputs": []
    },
    {
      "cell_type": "code",
      "source": [
        "vehicle_B = car(\"Scorpio\",150,50)"
      ],
      "metadata": {
        "id": "MNP_1o10xzfW"
      },
      "execution_count": 31,
      "outputs": []
    },
    {
      "cell_type": "code",
      "source": [
        "vehicle_B.capacity(8)"
      ],
      "metadata": {
        "colab": {
          "base_uri": "https://localhost:8080/",
          "height": 35
        },
        "id": "etA98wvcyOru",
        "outputId": "125f0923-4661-4b03-d0ea-77ea51e6475b"
      },
      "execution_count": 32,
      "outputs": [
        {
          "output_type": "execute_result",
          "data": {
            "text/plain": [
              "' Scorpio has 8 seats'"
            ],
            "application/vnd.google.colaboratory.intrinsic+json": {
              "type": "string"
            }
          },
          "metadata": {},
          "execution_count": 32
        }
      ]
    },
    {
      "cell_type": "markdown",
      "source": [
        "#QN 3\n",
        "Multiple inheritance is a feature in object-oriented programming languages that allows a class to inherit different attributes from more than one parent class."
      ],
      "metadata": {
        "id": "VI0f36bs1V9y"
      }
    },
    {
      "cell_type": "code",
      "source": [
        "#Example:\n",
        "class athlete:\n",
        "  def name(self):\n",
        "    return \"ATHLETE !!!\""
      ],
      "metadata": {
        "id": "HyjVfOtM2C14"
      },
      "execution_count": 33,
      "outputs": []
    },
    {
      "cell_type": "code",
      "source": [
        "class sport:\n",
        "  def sportt(self):\n",
        "    return \"FOOTBALLER !!!\""
      ],
      "metadata": {
        "id": "J7FpMibC2omk"
      },
      "execution_count": 34,
      "outputs": []
    },
    {
      "cell_type": "code",
      "source": [
        "class person(athlete,sport):\n",
        "  pass"
      ],
      "metadata": {
        "id": "7GKaFi1H28Lv"
      },
      "execution_count": 35,
      "outputs": []
    },
    {
      "cell_type": "code",
      "source": [
        "ronaldo = person()"
      ],
      "metadata": {
        "id": "_b7_5mgK3DS-"
      },
      "execution_count": 36,
      "outputs": []
    },
    {
      "cell_type": "code",
      "source": [
        "ronaldo.name()#person class inherits athlete class"
      ],
      "metadata": {
        "colab": {
          "base_uri": "https://localhost:8080/",
          "height": 35
        },
        "id": "fzwWYBmo4CC3",
        "outputId": "ba721ec1-0595-4849-940a-029a9594f77a"
      },
      "execution_count": 37,
      "outputs": [
        {
          "output_type": "execute_result",
          "data": {
            "text/plain": [
              "'ATHLETE !!!'"
            ],
            "application/vnd.google.colaboratory.intrinsic+json": {
              "type": "string"
            }
          },
          "metadata": {},
          "execution_count": 37
        }
      ]
    },
    {
      "cell_type": "code",
      "source": [
        "ronaldo.sportt()"
      ],
      "metadata": {
        "colab": {
          "base_uri": "https://localhost:8080/",
          "height": 35
        },
        "id": "uh2AU3Sz4L8Z",
        "outputId": "d0a66142-765f-4c36-94bc-42cff221d0e1"
      },
      "execution_count": 38,
      "outputs": [
        {
          "output_type": "execute_result",
          "data": {
            "text/plain": [
              "'FOOTBALLER !!!'"
            ],
            "application/vnd.google.colaboratory.intrinsic+json": {
              "type": "string"
            }
          },
          "metadata": {},
          "execution_count": 38
        }
      ]
    },
    {
      "cell_type": "markdown",
      "source": [
        "#QN 4\n",
        "In python, getter and setter methods are used to access and modify attributes of a class , respectively.\n"
      ],
      "metadata": {
        "id": "m_f0oHpB8xYy"
      }
    },
    {
      "cell_type": "code",
      "source": [
        "#Example:\n",
        "class MyClass:\n",
        "  def __init__(self,initial_value):\n",
        "    self._value = initial_value\n",
        "  def get_value(self):\n",
        "    return self._value\n",
        "  def set_value(self,new_value):\n",
        "    if new_value < 0:\n",
        "      print(\"Error\")\n",
        "    else:\n",
        "      self._value = new_value\n",
        ""
      ],
      "metadata": {
        "id": "hOYO5i2S5J9-"
      },
      "execution_count": 39,
      "outputs": []
    },
    {
      "cell_type": "code",
      "source": [
        "obj = MyClass(10)"
      ],
      "metadata": {
        "id": "QeYhTdzpIEtF"
      },
      "execution_count": 40,
      "outputs": []
    },
    {
      "cell_type": "code",
      "source": [
        "current_value = obj.get_value()\n",
        "print(current_value)"
      ],
      "metadata": {
        "colab": {
          "base_uri": "https://localhost:8080/"
        },
        "id": "rO2BkKE5EM2U",
        "outputId": "83e35ce5-f186-4064-acb3-42dfd5618427"
      },
      "execution_count": 41,
      "outputs": [
        {
          "output_type": "stream",
          "name": "stdout",
          "text": [
            "10\n"
          ]
        }
      ]
    },
    {
      "cell_type": "code",
      "source": [
        "obj.set_value(20)\n",
        "updated_value = obj.get_value()\n",
        "print(updated_value)"
      ],
      "metadata": {
        "colab": {
          "base_uri": "https://localhost:8080/"
        },
        "id": "zrz5lmu-EUA4",
        "outputId": "5c032af9-7aec-4973-a4ad-9941afcc987b"
      },
      "execution_count": 42,
      "outputs": [
        {
          "output_type": "stream",
          "name": "stdout",
          "text": [
            "20\n"
          ]
        }
      ]
    },
    {
      "cell_type": "code",
      "source": [
        "obj.set_value(-5)"
      ],
      "metadata": {
        "colab": {
          "base_uri": "https://localhost:8080/"
        },
        "id": "kn645X64Edpw",
        "outputId": "e16d4cca-19a4-434d-d6c9-8e899d744039"
      },
      "execution_count": 43,
      "outputs": [
        {
          "output_type": "stream",
          "name": "stdout",
          "text": [
            "Error\n"
          ]
        }
      ]
    },
    {
      "cell_type": "markdown",
      "source": [
        "# QN 5\n",
        "Method overriding in Python occurs when a subclass provides a specific implementation for a method that is already defined in its superclass."
      ],
      "metadata": {
        "id": "KGc9VHSCFCIl"
      }
    },
    {
      "cell_type": "code",
      "source": [
        "#Example :\n",
        "class Animal:\n",
        "    def speak(self):\n",
        "        print(\"Generic animal sound\")\n",
        "\n",
        "class Dog(Animal):\n",
        "    # Method overriding\n",
        "    def speak(self):\n",
        "        print(\"Woof! Woof!\")\n",
        "\n",
        "class Cat(Animal):\n",
        "    # Method overriding\n",
        "    def speak(self):\n",
        "        print(\"Meow!\")\n",
        "\n",
        "class Cow(Animal):\n",
        "    # Method overriding\n",
        "    def speak(self):\n",
        "        print(\"Moo!\")"
      ],
      "metadata": {
        "id": "qSpappjUEz8b"
      },
      "execution_count": 44,
      "outputs": []
    },
    {
      "cell_type": "code",
      "source": [
        "dog = Dog()\n",
        "cat = Cat()\n",
        "cow = Cow()"
      ],
      "metadata": {
        "id": "VVYCVtFqFlEC"
      },
      "execution_count": 45,
      "outputs": []
    },
    {
      "cell_type": "code",
      "source": [
        "dog.speak()\n",
        "cat.speak()\n",
        "cow.speak()"
      ],
      "metadata": {
        "colab": {
          "base_uri": "https://localhost:8080/"
        },
        "id": "K7V_g_tcF3LL",
        "outputId": "5f23f2a6-ee57-4f7f-d9de-a85a52e33734"
      },
      "execution_count": 46,
      "outputs": [
        {
          "output_type": "stream",
          "name": "stdout",
          "text": [
            "Woof! Woof!\n",
            "Meow!\n",
            "Moo!\n"
          ]
        }
      ]
    }
  ]
}